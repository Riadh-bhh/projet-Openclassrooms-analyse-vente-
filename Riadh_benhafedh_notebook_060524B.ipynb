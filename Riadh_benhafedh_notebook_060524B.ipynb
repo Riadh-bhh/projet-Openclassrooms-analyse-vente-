{
 "cells": [
  {
   "cell_type": "code",
   "execution_count": 1,
   "id": "6fe284a0",
   "metadata": {},
   "outputs": [],
   "source": [
    "import pandas as pd\n",
    "import numpy as np\n",
    "import matplotlib.pyplot as plt\n",
    "from datetime import date\n",
    "import matplotlib.ticker as ticker\n",
    "from scipy import stats\n",
    "import statsmodels.api as sm\n",
    "import seaborn as sns\n",
    "from scipy.stats import shapiro"
   ]
  },
  {
   "cell_type": "markdown",
   "id": "e71f8200",
   "metadata": {},
   "source": [
    "# <a name=\"C5\">Analyse des ventes de la librairie La Page avec Python</a>"
   ]
  },
  {
   "cell_type": "markdown",
   "id": "4b88d554",
   "metadata": {},
   "source": [
    "### Les étapes de mon analyse"
   ]
  },
  {
   "cell_type": "markdown",
   "id": "64f3277b",
   "metadata": {},
   "source": [
    "1/ Exploration et nettoyage des données\n",
    "\n",
    "* Importation des dataframes\n",
    "* visualisation et consultation du Type des données\n",
    "* recherche de Valeurs manquantes / Doublons \n",
    "* Cohérence des données\n",
    "* Jointure et simplifications du dataframe consolidé\n",
    "\n",
    "2/ Indicateurs et graphiques autour du chiffre d'affaires\n",
    "\n",
    "Chiffre d'affaires\n",
    "\n",
    "* Quelques chiffres (CA, prix moyen/median)\n",
    "* Calcule de l'évolution du chiffre d'affaires \n",
    "* Calcule de la moyenne mobile (histogramme des ventes et courbes de la moyenne mobile)\n",
    "* Calcule du chiffres d'affaire mensuel par catégorie (diagramme en batons empilés)\n",
    "\n",
    "Produits\n",
    "\n",
    "* Tops et flops référencement produit (diagramme bar horizontale)\n",
    "* Répartition client par tranche d'ages (diagramme circulaire)\n",
    "* Répartition par catégories en CA et Quantité (diagramme circulaire)\n",
    "\n",
    "Clients\n",
    "\n",
    "* Chiffre d'affaires par tranche d'âges (diagramme circulaire)\n",
    "* Part du chiffre d'affaires et classement par client (big customers)\n",
    "* Répartition du chiffre d'affaires en fonction du nombre de clients (courbe de Lorenz)\n",
    "* Répartition par genre et age (diagramme circulaire et histogramme)\n",
    "\n",
    "\n",
    "3/ Corrélations\n",
    "\n",
    "* Entre le genre du client et la catégorie de livres achetés (heat map)\n",
    "* Entre l'age du client et les montants d'achats (nuage de points)\n",
    "* Entre l'age du client la fréquence d'achat (diagramme en bar)\n",
    "* Entre l'age du client le panier moyen (courbe)\n",
    "* Entre l'age du client et la catégorie de livres (boite à moustache -- \"boxplot\")\n",
    "\n",
    "\n",
    " \n",
    "* Conclusion\n"
   ]
  },
  {
   "cell_type": "markdown",
   "id": "a233943b",
   "metadata": {},
   "source": [
    "# <a name=\"C5\">Exploration et nettoyage des données"
   ]
  },
  {
   "cell_type": "code",
   "execution_count": 2,
   "id": "5776db93",
   "metadata": {},
   "outputs": [],
   "source": [
    "customers=pd.read_csv('BDD/customers.csv',sep=';')\n",
    "products=pd.read_csv('BDD/products.csv',sep=';')\n",
    "transactions=pd.read_csv('BDD/transactions.csv',sep=';')\n"
   ]
  },
  {
   "cell_type": "markdown",
   "id": "29b6a274",
   "metadata": {},
   "source": [
    "## Dataframe customers"
   ]
  },
  {
   "cell_type": "code",
   "execution_count": 3,
   "id": "0a860d6c",
   "metadata": {},
   "outputs": [
    {
     "data": {
      "text/html": [
       "<div>\n",
       "<style scoped>\n",
       "    .dataframe tbody tr th:only-of-type {\n",
       "        vertical-align: middle;\n",
       "    }\n",
       "\n",
       "    .dataframe tbody tr th {\n",
       "        vertical-align: top;\n",
       "    }\n",
       "\n",
       "    .dataframe thead th {\n",
       "        text-align: right;\n",
       "    }\n",
       "</style>\n",
       "<table border=\"1\" class=\"dataframe\">\n",
       "  <thead>\n",
       "    <tr style=\"text-align: right;\">\n",
       "      <th></th>\n",
       "      <th>client_id</th>\n",
       "      <th>sex</th>\n",
       "      <th>birth</th>\n",
       "    </tr>\n",
       "  </thead>\n",
       "  <tbody>\n",
       "    <tr>\n",
       "      <th>0</th>\n",
       "      <td>c_4410</td>\n",
       "      <td>f</td>\n",
       "      <td>1967</td>\n",
       "    </tr>\n",
       "    <tr>\n",
       "      <th>1</th>\n",
       "      <td>c_7839</td>\n",
       "      <td>f</td>\n",
       "      <td>1975</td>\n",
       "    </tr>\n",
       "    <tr>\n",
       "      <th>2</th>\n",
       "      <td>c_1699</td>\n",
       "      <td>f</td>\n",
       "      <td>1984</td>\n",
       "    </tr>\n",
       "    <tr>\n",
       "      <th>3</th>\n",
       "      <td>c_5961</td>\n",
       "      <td>f</td>\n",
       "      <td>1962</td>\n",
       "    </tr>\n",
       "    <tr>\n",
       "      <th>4</th>\n",
       "      <td>c_5320</td>\n",
       "      <td>m</td>\n",
       "      <td>1943</td>\n",
       "    </tr>\n",
       "  </tbody>\n",
       "</table>\n",
       "</div>"
      ],
      "text/plain": [
       "  client_id sex  birth\n",
       "0    c_4410   f   1967\n",
       "1    c_7839   f   1975\n",
       "2    c_1699   f   1984\n",
       "3    c_5961   f   1962\n",
       "4    c_5320   m   1943"
      ]
     },
     "execution_count": 3,
     "metadata": {},
     "output_type": "execute_result"
    }
   ],
   "source": [
    "customers.head()"
   ]
  },
  {
   "cell_type": "code",
   "execution_count": 4,
   "id": "ec0a79d5",
   "metadata": {},
   "outputs": [
    {
     "data": {
      "text/plain": [
       "(8621, 3)"
      ]
     },
     "execution_count": 4,
     "metadata": {},
     "output_type": "execute_result"
    }
   ],
   "source": [
    "customers.shape"
   ]
  },
  {
   "cell_type": "code",
   "execution_count": 5,
   "id": "73ff33b1",
   "metadata": {},
   "outputs": [
    {
     "name": "stdout",
     "output_type": "stream",
     "text": [
      "<class 'pandas.core.frame.DataFrame'>\n",
      "RangeIndex: 8621 entries, 0 to 8620\n",
      "Data columns (total 3 columns):\n",
      " #   Column     Non-Null Count  Dtype \n",
      "---  ------     --------------  ----- \n",
      " 0   client_id  8621 non-null   object\n",
      " 1   sex        8621 non-null   object\n",
      " 2   birth      8621 non-null   int64 \n",
      "dtypes: int64(1), object(2)\n",
      "memory usage: 202.2+ KB\n"
     ]
    }
   ],
   "source": [
    "customers.info()"
   ]
  },
  {
   "cell_type": "code",
   "execution_count": 6,
   "id": "258bd909",
   "metadata": {},
   "outputs": [
    {
     "name": "stdout",
     "output_type": "stream",
     "text": [
      "client_id    0\n",
      "sex          0\n",
      "birth        0\n",
      "dtype: int64\n"
     ]
    }
   ],
   "source": [
    "#valeurs manquantes et caractéres vides\n",
    "print(customers.isnull().sum())\n"
   ]
  },
  {
   "cell_type": "code",
   "execution_count": 7,
   "id": "73c090dc",
   "metadata": {},
   "outputs": [
    {
     "data": {
      "text/html": [
       "<div>\n",
       "<style scoped>\n",
       "    .dataframe tbody tr th:only-of-type {\n",
       "        vertical-align: middle;\n",
       "    }\n",
       "\n",
       "    .dataframe tbody tr th {\n",
       "        vertical-align: top;\n",
       "    }\n",
       "\n",
       "    .dataframe thead th {\n",
       "        text-align: right;\n",
       "    }\n",
       "</style>\n",
       "<table border=\"1\" class=\"dataframe\">\n",
       "  <thead>\n",
       "    <tr style=\"text-align: right;\">\n",
       "      <th></th>\n",
       "      <th>client_id</th>\n",
       "      <th>sex</th>\n",
       "      <th>birth</th>\n",
       "    </tr>\n",
       "  </thead>\n",
       "  <tbody>\n",
       "  </tbody>\n",
       "</table>\n",
       "</div>"
      ],
      "text/plain": [
       "Empty DataFrame\n",
       "Columns: [client_id, sex, birth]\n",
       "Index: []"
      ]
     },
     "execution_count": 7,
     "metadata": {},
     "output_type": "execute_result"
    }
   ],
   "source": [
    "customers.loc[customers['client_id']=='']\n"
   ]
  },
  {
   "cell_type": "code",
   "execution_count": 8,
   "id": "9e961550",
   "metadata": {},
   "outputs": [
    {
     "data": {
      "text/html": [
       "<div>\n",
       "<style scoped>\n",
       "    .dataframe tbody tr th:only-of-type {\n",
       "        vertical-align: middle;\n",
       "    }\n",
       "\n",
       "    .dataframe tbody tr th {\n",
       "        vertical-align: top;\n",
       "    }\n",
       "\n",
       "    .dataframe thead th {\n",
       "        text-align: right;\n",
       "    }\n",
       "</style>\n",
       "<table border=\"1\" class=\"dataframe\">\n",
       "  <thead>\n",
       "    <tr style=\"text-align: right;\">\n",
       "      <th></th>\n",
       "      <th>client_id</th>\n",
       "      <th>sex</th>\n",
       "      <th>birth</th>\n",
       "    </tr>\n",
       "  </thead>\n",
       "  <tbody>\n",
       "  </tbody>\n",
       "</table>\n",
       "</div>"
      ],
      "text/plain": [
       "Empty DataFrame\n",
       "Columns: [client_id, sex, birth]\n",
       "Index: []"
      ]
     },
     "execution_count": 8,
     "metadata": {},
     "output_type": "execute_result"
    }
   ],
   "source": [
    "#recherche de doublons \n",
    "customers.loc[customers['client_id'].duplicated(keep=False),:]\n"
   ]
  },
  {
   "cell_type": "code",
   "execution_count": 9,
   "id": "dba5d9d4",
   "metadata": {},
   "outputs": [],
   "source": [
    "#nos clients les plus agés ont-ils plus de 89ans ?\n"
   ]
  },
  {
   "cell_type": "code",
   "execution_count": 10,
   "id": "034bd1d2",
   "metadata": {},
   "outputs": [
    {
     "name": "stdout",
     "output_type": "stream",
     "text": [
      "<class 'pandas.core.frame.DataFrame'>\n",
      "RangeIndex: 8621 entries, 0 to 8620\n",
      "Data columns (total 3 columns):\n",
      " #   Column     Non-Null Count  Dtype \n",
      "---  ------     --------------  ----- \n",
      " 0   client_id  8621 non-null   object\n",
      " 1   sex        8621 non-null   object\n",
      " 2   birth      8621 non-null   int64 \n",
      "dtypes: int64(1), object(2)\n",
      "memory usage: 202.2+ KB\n"
     ]
    }
   ],
   "source": [
    "customers.info()\n"
   ]
  },
  {
   "cell_type": "code",
   "execution_count": 11,
   "id": "2ba94ee1",
   "metadata": {},
   "outputs": [
    {
     "data": {
      "text/plain": [
       "array([1929, 1930, 1931, 1932, 1933, 1934, 1935, 1936, 1937, 1938, 1939,\n",
       "       1940, 1941, 1942, 1943, 1944, 1945, 1946, 1947, 1948, 1949, 1950,\n",
       "       1951, 1952, 1953, 1954, 1955, 1956, 1957, 1958, 1959, 1960, 1961,\n",
       "       1962, 1963, 1964, 1965, 1966, 1967, 1968, 1969, 1970, 1971, 1972,\n",
       "       1973, 1974, 1975, 1976, 1977, 1978, 1979, 1980, 1981, 1982, 1983,\n",
       "       1984, 1985, 1986, 1987, 1988, 1989, 1990, 1991, 1992, 1993, 1994,\n",
       "       1995, 1996, 1997, 1998, 1999, 2000, 2001, 2002, 2003, 2004])"
      ]
     },
     "execution_count": 11,
     "metadata": {},
     "output_type": "execute_result"
    }
   ],
   "source": [
    "customers['birth'].sort_values().unique()\n"
   ]
  },
  {
   "cell_type": "code",
   "execution_count": 12,
   "id": "c3e81e85",
   "metadata": {},
   "outputs": [
    {
     "data": {
      "text/plain": [
       "client_id    38\n",
       "sex           2\n",
       "birth         6\n",
       "dtype: int64"
      ]
     },
     "execution_count": 12,
     "metadata": {},
     "output_type": "execute_result"
    }
   ],
   "source": [
    "customers.query(\" birth<1935\").nunique()\n"
   ]
  },
  {
   "cell_type": "code",
   "execution_count": 13,
   "id": "b9e93fa9",
   "metadata": {},
   "outputs": [
    {
     "data": {
      "text/plain": [
       "sex\n",
       "f    0.520821\n",
       "m    0.479179\n",
       "Name: proportion, dtype: float64"
      ]
     },
     "execution_count": 13,
     "metadata": {},
     "output_type": "execute_result"
    }
   ],
   "source": [
    "#proportion homme/femme\n",
    "customers['sex'].value_counts(normalize=True)"
   ]
  },
  {
   "cell_type": "code",
   "execution_count": 14,
   "id": "3cf80c83",
   "metadata": {
    "scrolled": true
   },
   "outputs": [
    {
     "data": {
      "text/plain": [
       "birth\n",
       "1929      3\n",
       "1930      4\n",
       "1931      4\n",
       "1932      6\n",
       "1935      8\n",
       "       ... \n",
       "1978    199\n",
       "1986    203\n",
       "1988    207\n",
       "1979    215\n",
       "2004    440\n",
       "Name: count, Length: 76, dtype: int64"
      ]
     },
     "execution_count": 14,
     "metadata": {},
     "output_type": "execute_result"
    }
   ],
   "source": [
    "#proportion année de naissance\n",
    "customers['birth'].value_counts(ascending=True)"
   ]
  },
  {
   "cell_type": "code",
   "execution_count": 15,
   "id": "8837711d",
   "metadata": {},
   "outputs": [
    {
     "data": {
      "text/plain": [
       "8621"
      ]
     },
     "execution_count": 15,
     "metadata": {},
     "output_type": "execute_result"
    }
   ],
   "source": [
    "#vérifier si nos client_id ont la même structure qui commence par \"c_\"\n",
    "customers.client_id.str.contains('c_\\d+').sum()"
   ]
  },
  {
   "cell_type": "code",
   "execution_count": 16,
   "id": "b5f734cf",
   "metadata": {},
   "outputs": [
    {
     "data": {
      "text/plain": [
       "8621"
      ]
     },
     "execution_count": 16,
     "metadata": {},
     "output_type": "execute_result"
    }
   ],
   "source": [
    "#8621 clients différents dans la BDD\n",
    "customers['client_id'].nunique()"
   ]
  },
  {
   "cell_type": "code",
   "execution_count": 17,
   "id": "221d5050",
   "metadata": {},
   "outputs": [
    {
     "data": {
      "text/html": [
       "<div>\n",
       "<style scoped>\n",
       "    .dataframe tbody tr th:only-of-type {\n",
       "        vertical-align: middle;\n",
       "    }\n",
       "\n",
       "    .dataframe tbody tr th {\n",
       "        vertical-align: top;\n",
       "    }\n",
       "\n",
       "    .dataframe thead th {\n",
       "        text-align: right;\n",
       "    }\n",
       "</style>\n",
       "<table border=\"1\" class=\"dataframe\">\n",
       "  <thead>\n",
       "    <tr style=\"text-align: right;\">\n",
       "      <th></th>\n",
       "      <th>birth</th>\n",
       "    </tr>\n",
       "  </thead>\n",
       "  <tbody>\n",
       "    <tr>\n",
       "      <th>count</th>\n",
       "      <td>8621.000000</td>\n",
       "    </tr>\n",
       "    <tr>\n",
       "      <th>mean</th>\n",
       "      <td>1978.275606</td>\n",
       "    </tr>\n",
       "    <tr>\n",
       "      <th>std</th>\n",
       "      <td>16.917958</td>\n",
       "    </tr>\n",
       "    <tr>\n",
       "      <th>min</th>\n",
       "      <td>1929.000000</td>\n",
       "    </tr>\n",
       "    <tr>\n",
       "      <th>25%</th>\n",
       "      <td>1966.000000</td>\n",
       "    </tr>\n",
       "    <tr>\n",
       "      <th>50%</th>\n",
       "      <td>1979.000000</td>\n",
       "    </tr>\n",
       "    <tr>\n",
       "      <th>75%</th>\n",
       "      <td>1992.000000</td>\n",
       "    </tr>\n",
       "    <tr>\n",
       "      <th>max</th>\n",
       "      <td>2004.000000</td>\n",
       "    </tr>\n",
       "  </tbody>\n",
       "</table>\n",
       "</div>"
      ],
      "text/plain": [
       "             birth\n",
       "count  8621.000000\n",
       "mean   1978.275606\n",
       "std      16.917958\n",
       "min    1929.000000\n",
       "25%    1966.000000\n",
       "50%    1979.000000\n",
       "75%    1992.000000\n",
       "max    2004.000000"
      ]
     },
     "execution_count": 17,
     "metadata": {},
     "output_type": "execute_result"
    }
   ],
   "source": [
    "customers.describe()\n"
   ]
  },
  {
   "cell_type": "markdown",
   "id": "1efe0c89",
   "metadata": {},
   "source": [
    "## Dataframe products"
   ]
  },
  {
   "cell_type": "code",
   "execution_count": 18,
   "id": "69b2cacd",
   "metadata": {},
   "outputs": [
    {
     "data": {
      "text/html": [
       "<div>\n",
       "<style scoped>\n",
       "    .dataframe tbody tr th:only-of-type {\n",
       "        vertical-align: middle;\n",
       "    }\n",
       "\n",
       "    .dataframe tbody tr th {\n",
       "        vertical-align: top;\n",
       "    }\n",
       "\n",
       "    .dataframe thead th {\n",
       "        text-align: right;\n",
       "    }\n",
       "</style>\n",
       "<table border=\"1\" class=\"dataframe\">\n",
       "  <thead>\n",
       "    <tr style=\"text-align: right;\">\n",
       "      <th></th>\n",
       "      <th>id_prod</th>\n",
       "      <th>price</th>\n",
       "      <th>categ</th>\n",
       "    </tr>\n",
       "  </thead>\n",
       "  <tbody>\n",
       "    <tr>\n",
       "      <th>0</th>\n",
       "      <td>0_1421</td>\n",
       "      <td>19.99</td>\n",
       "      <td>0</td>\n",
       "    </tr>\n",
       "    <tr>\n",
       "      <th>1</th>\n",
       "      <td>0_1368</td>\n",
       "      <td>5.13</td>\n",
       "      <td>0</td>\n",
       "    </tr>\n",
       "    <tr>\n",
       "      <th>2</th>\n",
       "      <td>0_731</td>\n",
       "      <td>17.99</td>\n",
       "      <td>0</td>\n",
       "    </tr>\n",
       "    <tr>\n",
       "      <th>3</th>\n",
       "      <td>1_587</td>\n",
       "      <td>4.99</td>\n",
       "      <td>1</td>\n",
       "    </tr>\n",
       "    <tr>\n",
       "      <th>4</th>\n",
       "      <td>0_1507</td>\n",
       "      <td>3.99</td>\n",
       "      <td>0</td>\n",
       "    </tr>\n",
       "  </tbody>\n",
       "</table>\n",
       "</div>"
      ],
      "text/plain": [
       "  id_prod  price  categ\n",
       "0  0_1421  19.99      0\n",
       "1  0_1368   5.13      0\n",
       "2   0_731  17.99      0\n",
       "3   1_587   4.99      1\n",
       "4  0_1507   3.99      0"
      ]
     },
     "execution_count": 18,
     "metadata": {},
     "output_type": "execute_result"
    }
   ],
   "source": [
    "products.head()\n"
   ]
  },
  {
   "cell_type": "code",
   "execution_count": 19,
   "id": "afcd149a",
   "metadata": {},
   "outputs": [
    {
     "data": {
      "text/plain": [
       "(3286, 3)"
      ]
     },
     "execution_count": 19,
     "metadata": {},
     "output_type": "execute_result"
    }
   ],
   "source": [
    "products.shape\n"
   ]
  },
  {
   "cell_type": "code",
   "execution_count": 20,
   "id": "b383050a",
   "metadata": {},
   "outputs": [
    {
     "data": {
      "text/plain": [
       "3286"
      ]
     },
     "execution_count": 20,
     "metadata": {},
     "output_type": "execute_result"
    }
   ],
   "source": [
    "products['id_prod'].nunique()\n"
   ]
  },
  {
   "cell_type": "code",
   "execution_count": 21,
   "id": "57b9fdbd",
   "metadata": {},
   "outputs": [
    {
     "name": "stdout",
     "output_type": "stream",
     "text": [
      "id_prod    0\n",
      "price      0\n",
      "categ      0\n",
      "dtype: int64\n"
     ]
    }
   ],
   "source": [
    "#valeurs manquantes et caractéres vides\n",
    "print(products.isnull().sum())\n"
   ]
  },
  {
   "cell_type": "code",
   "execution_count": 22,
   "id": "3b28acce",
   "metadata": {},
   "outputs": [
    {
     "data": {
      "text/html": [
       "<div>\n",
       "<style scoped>\n",
       "    .dataframe tbody tr th:only-of-type {\n",
       "        vertical-align: middle;\n",
       "    }\n",
       "\n",
       "    .dataframe tbody tr th {\n",
       "        vertical-align: top;\n",
       "    }\n",
       "\n",
       "    .dataframe thead th {\n",
       "        text-align: right;\n",
       "    }\n",
       "</style>\n",
       "<table border=\"1\" class=\"dataframe\">\n",
       "  <thead>\n",
       "    <tr style=\"text-align: right;\">\n",
       "      <th></th>\n",
       "      <th>id_prod</th>\n",
       "      <th>price</th>\n",
       "      <th>categ</th>\n",
       "    </tr>\n",
       "  </thead>\n",
       "  <tbody>\n",
       "  </tbody>\n",
       "</table>\n",
       "</div>"
      ],
      "text/plain": [
       "Empty DataFrame\n",
       "Columns: [id_prod, price, categ]\n",
       "Index: []"
      ]
     },
     "execution_count": 22,
     "metadata": {},
     "output_type": "execute_result"
    }
   ],
   "source": [
    "products.loc[products['id_prod']=='']\n"
   ]
  },
  {
   "cell_type": "code",
   "execution_count": 23,
   "id": "b8740a41",
   "metadata": {},
   "outputs": [
    {
     "data": {
      "text/html": [
       "<div>\n",
       "<style scoped>\n",
       "    .dataframe tbody tr th:only-of-type {\n",
       "        vertical-align: middle;\n",
       "    }\n",
       "\n",
       "    .dataframe tbody tr th {\n",
       "        vertical-align: top;\n",
       "    }\n",
       "\n",
       "    .dataframe thead th {\n",
       "        text-align: right;\n",
       "    }\n",
       "</style>\n",
       "<table border=\"1\" class=\"dataframe\">\n",
       "  <thead>\n",
       "    <tr style=\"text-align: right;\">\n",
       "      <th></th>\n",
       "      <th>id_prod</th>\n",
       "      <th>price</th>\n",
       "      <th>categ</th>\n",
       "    </tr>\n",
       "  </thead>\n",
       "  <tbody>\n",
       "  </tbody>\n",
       "</table>\n",
       "</div>"
      ],
      "text/plain": [
       "Empty DataFrame\n",
       "Columns: [id_prod, price, categ]\n",
       "Index: []"
      ]
     },
     "execution_count": 23,
     "metadata": {},
     "output_type": "execute_result"
    }
   ],
   "source": [
    "#recherche de doublons \n",
    "products.loc[products['id_prod'].duplicated(keep=False),:]\n"
   ]
  },
  {
   "cell_type": "code",
   "execution_count": 24,
   "id": "edff387d",
   "metadata": {},
   "outputs": [
    {
     "data": {
      "text/html": [
       "<div>\n",
       "<style scoped>\n",
       "    .dataframe tbody tr th:only-of-type {\n",
       "        vertical-align: middle;\n",
       "    }\n",
       "\n",
       "    .dataframe tbody tr th {\n",
       "        vertical-align: top;\n",
       "    }\n",
       "\n",
       "    .dataframe thead th {\n",
       "        text-align: right;\n",
       "    }\n",
       "</style>\n",
       "<table border=\"1\" class=\"dataframe\">\n",
       "  <thead>\n",
       "    <tr style=\"text-align: right;\">\n",
       "      <th></th>\n",
       "      <th>price</th>\n",
       "      <th>categ</th>\n",
       "    </tr>\n",
       "  </thead>\n",
       "  <tbody>\n",
       "    <tr>\n",
       "      <th>count</th>\n",
       "      <td>3286.000000</td>\n",
       "      <td>3286.000000</td>\n",
       "    </tr>\n",
       "    <tr>\n",
       "      <th>mean</th>\n",
       "      <td>21.863597</td>\n",
       "      <td>0.370359</td>\n",
       "    </tr>\n",
       "    <tr>\n",
       "      <th>std</th>\n",
       "      <td>29.849786</td>\n",
       "      <td>0.615446</td>\n",
       "    </tr>\n",
       "    <tr>\n",
       "      <th>min</th>\n",
       "      <td>0.620000</td>\n",
       "      <td>0.000000</td>\n",
       "    </tr>\n",
       "    <tr>\n",
       "      <th>25%</th>\n",
       "      <td>6.990000</td>\n",
       "      <td>0.000000</td>\n",
       "    </tr>\n",
       "    <tr>\n",
       "      <th>50%</th>\n",
       "      <td>13.075000</td>\n",
       "      <td>0.000000</td>\n",
       "    </tr>\n",
       "    <tr>\n",
       "      <th>75%</th>\n",
       "      <td>22.990000</td>\n",
       "      <td>1.000000</td>\n",
       "    </tr>\n",
       "    <tr>\n",
       "      <th>max</th>\n",
       "      <td>300.000000</td>\n",
       "      <td>2.000000</td>\n",
       "    </tr>\n",
       "  </tbody>\n",
       "</table>\n",
       "</div>"
      ],
      "text/plain": [
       "             price        categ\n",
       "count  3286.000000  3286.000000\n",
       "mean     21.863597     0.370359\n",
       "std      29.849786     0.615446\n",
       "min       0.620000     0.000000\n",
       "25%       6.990000     0.000000\n",
       "50%      13.075000     0.000000\n",
       "75%      22.990000     1.000000\n",
       "max     300.000000     2.000000"
      ]
     },
     "execution_count": 24,
     "metadata": {},
     "output_type": "execute_result"
    }
   ],
   "source": [
    "#pas de prix négatif\n",
    "products.describe()\n"
   ]
  },
  {
   "cell_type": "code",
   "execution_count": 25,
   "id": "cda11b07",
   "metadata": {},
   "outputs": [
    {
     "name": "stdout",
     "output_type": "stream",
     "text": [
      "<class 'pandas.core.frame.DataFrame'>\n",
      "RangeIndex: 3286 entries, 0 to 3285\n",
      "Data columns (total 3 columns):\n",
      " #   Column   Non-Null Count  Dtype  \n",
      "---  ------   --------------  -----  \n",
      " 0   id_prod  3286 non-null   object \n",
      " 1   price    3286 non-null   float64\n",
      " 2   categ    3286 non-null   int64  \n",
      "dtypes: float64(1), int64(1), object(1)\n",
      "memory usage: 77.1+ KB\n"
     ]
    }
   ],
   "source": [
    "products.info()"
   ]
  },
  {
   "cell_type": "code",
   "execution_count": 26,
   "id": "b8d5177f",
   "metadata": {},
   "outputs": [
    {
     "data": {
      "text/plain": [
       "categ\n",
       "0    0.702374\n",
       "1    0.224893\n",
       "2    0.072733\n",
       "Name: proportion, dtype: float64"
      ]
     },
     "execution_count": 26,
     "metadata": {},
     "output_type": "execute_result"
    }
   ],
   "source": [
    "#proportion par catég\n",
    "products['categ'].value_counts(normalize=True)"
   ]
  },
  {
   "cell_type": "markdown",
   "id": "1b794fd7",
   "metadata": {},
   "source": [
    "Vérification que le premiere chiffre de nos id_prod correspond bien à sa catégorie"
   ]
  },
  {
   "cell_type": "code",
   "execution_count": 27,
   "id": "c3714a8c",
   "metadata": {},
   "outputs": [
    {
     "data": {
      "text/plain": [
       "3286"
      ]
     },
     "execution_count": 27,
     "metadata": {},
     "output_type": "execute_result"
    }
   ],
   "source": [
    "#vérifier si nos id_prod ont la même structure\n",
    "products.id_prod.str.contains('\\d_\\d+').sum()\n"
   ]
  },
  {
   "cell_type": "code",
   "execution_count": 28,
   "id": "81c0c10d",
   "metadata": {},
   "outputs": [],
   "source": [
    "products['split']=products.id_prod.str.split(pat='_', expand=True).iloc[:,0]\n"
   ]
  },
  {
   "cell_type": "code",
   "execution_count": 29,
   "id": "62374e5c",
   "metadata": {},
   "outputs": [
    {
     "data": {
      "text/plain": [
       "RangeIndex(start=0, stop=2, step=1)"
      ]
     },
     "execution_count": 29,
     "metadata": {},
     "output_type": "execute_result"
    }
   ],
   "source": [
    "products.id_prod.str.split(pat='_', expand=True).columns\n"
   ]
  },
  {
   "cell_type": "code",
   "execution_count": 30,
   "id": "6b19dbcf",
   "metadata": {},
   "outputs": [
    {
     "data": {
      "text/html": [
       "<div>\n",
       "<style scoped>\n",
       "    .dataframe tbody tr th:only-of-type {\n",
       "        vertical-align: middle;\n",
       "    }\n",
       "\n",
       "    .dataframe tbody tr th {\n",
       "        vertical-align: top;\n",
       "    }\n",
       "\n",
       "    .dataframe thead th {\n",
       "        text-align: right;\n",
       "    }\n",
       "</style>\n",
       "<table border=\"1\" class=\"dataframe\">\n",
       "  <thead>\n",
       "    <tr style=\"text-align: right;\">\n",
       "      <th></th>\n",
       "      <th>id_prod</th>\n",
       "      <th>price</th>\n",
       "      <th>categ</th>\n",
       "      <th>split</th>\n",
       "    </tr>\n",
       "  </thead>\n",
       "  <tbody>\n",
       "    <tr>\n",
       "      <th>0</th>\n",
       "      <td>0_1421</td>\n",
       "      <td>19.99</td>\n",
       "      <td>0</td>\n",
       "      <td>0</td>\n",
       "    </tr>\n",
       "    <tr>\n",
       "      <th>1</th>\n",
       "      <td>0_1368</td>\n",
       "      <td>5.13</td>\n",
       "      <td>0</td>\n",
       "      <td>0</td>\n",
       "    </tr>\n",
       "    <tr>\n",
       "      <th>2</th>\n",
       "      <td>0_731</td>\n",
       "      <td>17.99</td>\n",
       "      <td>0</td>\n",
       "      <td>0</td>\n",
       "    </tr>\n",
       "    <tr>\n",
       "      <th>3</th>\n",
       "      <td>1_587</td>\n",
       "      <td>4.99</td>\n",
       "      <td>1</td>\n",
       "      <td>1</td>\n",
       "    </tr>\n",
       "    <tr>\n",
       "      <th>4</th>\n",
       "      <td>0_1507</td>\n",
       "      <td>3.99</td>\n",
       "      <td>0</td>\n",
       "      <td>0</td>\n",
       "    </tr>\n",
       "  </tbody>\n",
       "</table>\n",
       "</div>"
      ],
      "text/plain": [
       "  id_prod  price  categ split\n",
       "0  0_1421  19.99      0     0\n",
       "1  0_1368   5.13      0     0\n",
       "2   0_731  17.99      0     0\n",
       "3   1_587   4.99      1     1\n",
       "4  0_1507   3.99      0     0"
      ]
     },
     "execution_count": 30,
     "metadata": {},
     "output_type": "execute_result"
    }
   ],
   "source": [
    "products.head()\n"
   ]
  },
  {
   "cell_type": "code",
   "execution_count": 31,
   "id": "2252ce47",
   "metadata": {},
   "outputs": [
    {
     "name": "stdout",
     "output_type": "stream",
     "text": [
      "<class 'pandas.core.frame.DataFrame'>\n",
      "RangeIndex: 3286 entries, 0 to 3285\n",
      "Data columns (total 4 columns):\n",
      " #   Column   Non-Null Count  Dtype  \n",
      "---  ------   --------------  -----  \n",
      " 0   id_prod  3286 non-null   object \n",
      " 1   price    3286 non-null   float64\n",
      " 2   categ    3286 non-null   int64  \n",
      " 3   split    3286 non-null   object \n",
      "dtypes: float64(1), int64(1), object(2)\n",
      "memory usage: 102.8+ KB\n"
     ]
    }
   ],
   "source": [
    "products.info()\n"
   ]
  },
  {
   "cell_type": "code",
   "execution_count": 32,
   "id": "faea2f12",
   "metadata": {},
   "outputs": [],
   "source": [
    "products['split']=products['split'].astype(int)\n"
   ]
  },
  {
   "cell_type": "code",
   "execution_count": 33,
   "id": "3cbd6f98",
   "metadata": {},
   "outputs": [],
   "source": [
    "products['categ_split']=products['split']==products['categ']\n"
   ]
  },
  {
   "cell_type": "code",
   "execution_count": 34,
   "id": "967b86f6",
   "metadata": {},
   "outputs": [
    {
     "data": {
      "text/plain": [
       "3286"
      ]
     },
     "execution_count": 34,
     "metadata": {},
     "output_type": "execute_result"
    }
   ],
   "source": [
    "products['categ_split'].sum()\n"
   ]
  },
  {
   "cell_type": "code",
   "execution_count": 35,
   "id": "1e92a8c4",
   "metadata": {},
   "outputs": [
    {
     "data": {
      "text/html": [
       "<div>\n",
       "<style scoped>\n",
       "    .dataframe tbody tr th:only-of-type {\n",
       "        vertical-align: middle;\n",
       "    }\n",
       "\n",
       "    .dataframe tbody tr th {\n",
       "        vertical-align: top;\n",
       "    }\n",
       "\n",
       "    .dataframe thead th {\n",
       "        text-align: right;\n",
       "    }\n",
       "</style>\n",
       "<table border=\"1\" class=\"dataframe\">\n",
       "  <thead>\n",
       "    <tr style=\"text-align: right;\">\n",
       "      <th></th>\n",
       "      <th>id_prod</th>\n",
       "      <th>price</th>\n",
       "      <th>categ</th>\n",
       "      <th>split</th>\n",
       "      <th>categ_split</th>\n",
       "    </tr>\n",
       "  </thead>\n",
       "  <tbody>\n",
       "    <tr>\n",
       "      <th>0</th>\n",
       "      <td>0_1421</td>\n",
       "      <td>19.99</td>\n",
       "      <td>0</td>\n",
       "      <td>0</td>\n",
       "      <td>True</td>\n",
       "    </tr>\n",
       "    <tr>\n",
       "      <th>1</th>\n",
       "      <td>0_1368</td>\n",
       "      <td>5.13</td>\n",
       "      <td>0</td>\n",
       "      <td>0</td>\n",
       "      <td>True</td>\n",
       "    </tr>\n",
       "    <tr>\n",
       "      <th>2</th>\n",
       "      <td>0_731</td>\n",
       "      <td>17.99</td>\n",
       "      <td>0</td>\n",
       "      <td>0</td>\n",
       "      <td>True</td>\n",
       "    </tr>\n",
       "    <tr>\n",
       "      <th>3</th>\n",
       "      <td>1_587</td>\n",
       "      <td>4.99</td>\n",
       "      <td>1</td>\n",
       "      <td>1</td>\n",
       "      <td>True</td>\n",
       "    </tr>\n",
       "    <tr>\n",
       "      <th>4</th>\n",
       "      <td>0_1507</td>\n",
       "      <td>3.99</td>\n",
       "      <td>0</td>\n",
       "      <td>0</td>\n",
       "      <td>True</td>\n",
       "    </tr>\n",
       "  </tbody>\n",
       "</table>\n",
       "</div>"
      ],
      "text/plain": [
       "  id_prod  price  categ  split  categ_split\n",
       "0  0_1421  19.99      0      0         True\n",
       "1  0_1368   5.13      0      0         True\n",
       "2   0_731  17.99      0      0         True\n",
       "3   1_587   4.99      1      1         True\n",
       "4  0_1507   3.99      0      0         True"
      ]
     },
     "execution_count": 35,
     "metadata": {},
     "output_type": "execute_result"
    }
   ],
   "source": [
    "products.head()"
   ]
  },
  {
   "cell_type": "code",
   "execution_count": 36,
   "id": "af3928c3",
   "metadata": {},
   "outputs": [],
   "source": [
    "products=products.drop(['split','categ_split'],axis=1)"
   ]
  },
  {
   "cell_type": "code",
   "execution_count": 37,
   "id": "4304b824",
   "metadata": {},
   "outputs": [
    {
     "data": {
      "text/html": [
       "<div>\n",
       "<style scoped>\n",
       "    .dataframe tbody tr th:only-of-type {\n",
       "        vertical-align: middle;\n",
       "    }\n",
       "\n",
       "    .dataframe tbody tr th {\n",
       "        vertical-align: top;\n",
       "    }\n",
       "\n",
       "    .dataframe thead th {\n",
       "        text-align: right;\n",
       "    }\n",
       "</style>\n",
       "<table border=\"1\" class=\"dataframe\">\n",
       "  <thead>\n",
       "    <tr style=\"text-align: right;\">\n",
       "      <th></th>\n",
       "      <th>id_prod</th>\n",
       "      <th>price</th>\n",
       "      <th>categ</th>\n",
       "    </tr>\n",
       "  </thead>\n",
       "  <tbody>\n",
       "    <tr>\n",
       "      <th>0</th>\n",
       "      <td>0_1421</td>\n",
       "      <td>19.99</td>\n",
       "      <td>0</td>\n",
       "    </tr>\n",
       "    <tr>\n",
       "      <th>1</th>\n",
       "      <td>0_1368</td>\n",
       "      <td>5.13</td>\n",
       "      <td>0</td>\n",
       "    </tr>\n",
       "    <tr>\n",
       "      <th>2</th>\n",
       "      <td>0_731</td>\n",
       "      <td>17.99</td>\n",
       "      <td>0</td>\n",
       "    </tr>\n",
       "    <tr>\n",
       "      <th>3</th>\n",
       "      <td>1_587</td>\n",
       "      <td>4.99</td>\n",
       "      <td>1</td>\n",
       "    </tr>\n",
       "    <tr>\n",
       "      <th>4</th>\n",
       "      <td>0_1507</td>\n",
       "      <td>3.99</td>\n",
       "      <td>0</td>\n",
       "    </tr>\n",
       "  </tbody>\n",
       "</table>\n",
       "</div>"
      ],
      "text/plain": [
       "  id_prod  price  categ\n",
       "0  0_1421  19.99      0\n",
       "1  0_1368   5.13      0\n",
       "2   0_731  17.99      0\n",
       "3   1_587   4.99      1\n",
       "4  0_1507   3.99      0"
      ]
     },
     "execution_count": 37,
     "metadata": {},
     "output_type": "execute_result"
    }
   ],
   "source": [
    "products.head()"
   ]
  },
  {
   "cell_type": "markdown",
   "id": "e453f73f",
   "metadata": {},
   "source": [
    "## Dataframe transactions\n"
   ]
  },
  {
   "cell_type": "code",
   "execution_count": 38,
   "id": "55a2d8bb",
   "metadata": {},
   "outputs": [
    {
     "data": {
      "text/html": [
       "<div>\n",
       "<style scoped>\n",
       "    .dataframe tbody tr th:only-of-type {\n",
       "        vertical-align: middle;\n",
       "    }\n",
       "\n",
       "    .dataframe tbody tr th {\n",
       "        vertical-align: top;\n",
       "    }\n",
       "\n",
       "    .dataframe thead th {\n",
       "        text-align: right;\n",
       "    }\n",
       "</style>\n",
       "<table border=\"1\" class=\"dataframe\">\n",
       "  <thead>\n",
       "    <tr style=\"text-align: right;\">\n",
       "      <th></th>\n",
       "      <th>id_prod</th>\n",
       "      <th>date</th>\n",
       "      <th>session_id</th>\n",
       "      <th>client_id</th>\n",
       "    </tr>\n",
       "  </thead>\n",
       "  <tbody>\n",
       "    <tr>\n",
       "      <th>0</th>\n",
       "      <td>0_1259</td>\n",
       "      <td>2021-03-01 00:01:07.843138</td>\n",
       "      <td>s_1</td>\n",
       "      <td>c_329</td>\n",
       "    </tr>\n",
       "    <tr>\n",
       "      <th>1</th>\n",
       "      <td>0_1390</td>\n",
       "      <td>2021-03-01 00:02:26.047414</td>\n",
       "      <td>s_2</td>\n",
       "      <td>c_664</td>\n",
       "    </tr>\n",
       "    <tr>\n",
       "      <th>2</th>\n",
       "      <td>0_1352</td>\n",
       "      <td>2021-03-01 00:02:38.311413</td>\n",
       "      <td>s_3</td>\n",
       "      <td>c_580</td>\n",
       "    </tr>\n",
       "    <tr>\n",
       "      <th>3</th>\n",
       "      <td>0_1458</td>\n",
       "      <td>2021-03-01 00:04:54.559692</td>\n",
       "      <td>s_4</td>\n",
       "      <td>c_7912</td>\n",
       "    </tr>\n",
       "    <tr>\n",
       "      <th>4</th>\n",
       "      <td>0_1358</td>\n",
       "      <td>2021-03-01 00:05:18.801198</td>\n",
       "      <td>s_5</td>\n",
       "      <td>c_2033</td>\n",
       "    </tr>\n",
       "  </tbody>\n",
       "</table>\n",
       "</div>"
      ],
      "text/plain": [
       "  id_prod                        date session_id client_id\n",
       "0  0_1259  2021-03-01 00:01:07.843138        s_1     c_329\n",
       "1  0_1390  2021-03-01 00:02:26.047414        s_2     c_664\n",
       "2  0_1352  2021-03-01 00:02:38.311413        s_3     c_580\n",
       "3  0_1458  2021-03-01 00:04:54.559692        s_4    c_7912\n",
       "4  0_1358  2021-03-01 00:05:18.801198        s_5    c_2033"
      ]
     },
     "execution_count": 38,
     "metadata": {},
     "output_type": "execute_result"
    }
   ],
   "source": [
    "transactions.head()\n"
   ]
  },
  {
   "cell_type": "code",
   "execution_count": 39,
   "id": "1c340bdd",
   "metadata": {},
   "outputs": [
    {
     "data": {
      "text/plain": [
       "(687534, 4)"
      ]
     },
     "execution_count": 39,
     "metadata": {},
     "output_type": "execute_result"
    }
   ],
   "source": [
    "transactions.shape\n"
   ]
  },
  {
   "cell_type": "code",
   "execution_count": 40,
   "id": "e4914cf6",
   "metadata": {},
   "outputs": [
    {
     "name": "stdout",
     "output_type": "stream",
     "text": [
      "id_prod       0\n",
      "date          0\n",
      "session_id    0\n",
      "client_id     0\n",
      "dtype: int64\n"
     ]
    }
   ],
   "source": [
    "#valeurs manquantes et caractéres vides\n",
    "print(transactions.isnull().sum())\n"
   ]
  },
  {
   "cell_type": "code",
   "execution_count": 41,
   "id": "9f455e94",
   "metadata": {},
   "outputs": [
    {
     "data": {
      "text/html": [
       "<div>\n",
       "<style scoped>\n",
       "    .dataframe tbody tr th:only-of-type {\n",
       "        vertical-align: middle;\n",
       "    }\n",
       "\n",
       "    .dataframe tbody tr th {\n",
       "        vertical-align: top;\n",
       "    }\n",
       "\n",
       "    .dataframe thead th {\n",
       "        text-align: right;\n",
       "    }\n",
       "</style>\n",
       "<table border=\"1\" class=\"dataframe\">\n",
       "  <thead>\n",
       "    <tr style=\"text-align: right;\">\n",
       "      <th></th>\n",
       "      <th>id_prod</th>\n",
       "      <th>date</th>\n",
       "      <th>session_id</th>\n",
       "      <th>client_id</th>\n",
       "    </tr>\n",
       "  </thead>\n",
       "  <tbody>\n",
       "  </tbody>\n",
       "</table>\n",
       "</div>"
      ],
      "text/plain": [
       "Empty DataFrame\n",
       "Columns: [id_prod, date, session_id, client_id]\n",
       "Index: []"
      ]
     },
     "execution_count": 41,
     "metadata": {},
     "output_type": "execute_result"
    }
   ],
   "source": [
    "transactions.loc[transactions['id_prod']=='']\n"
   ]
  },
  {
   "cell_type": "code",
   "execution_count": 42,
   "id": "513478ff",
   "metadata": {},
   "outputs": [
    {
     "name": "stdout",
     "output_type": "stream",
     "text": [
      "<class 'pandas.core.frame.DataFrame'>\n",
      "RangeIndex: 687534 entries, 0 to 687533\n",
      "Data columns (total 4 columns):\n",
      " #   Column      Non-Null Count   Dtype \n",
      "---  ------      --------------   ----- \n",
      " 0   id_prod     687534 non-null  object\n",
      " 1   date        687534 non-null  object\n",
      " 2   session_id  687534 non-null  object\n",
      " 3   client_id   687534 non-null  object\n",
      "dtypes: object(4)\n",
      "memory usage: 21.0+ MB\n"
     ]
    }
   ],
   "source": [
    "#vérifier que les dates sont au bon format\n",
    "transactions.info()"
   ]
  },
  {
   "cell_type": "code",
   "execution_count": 43,
   "id": "cd38001d",
   "metadata": {},
   "outputs": [],
   "source": [
    "#transactions['date'] = pd.to_datetime(transactions['date'])"
   ]
  },
  {
   "cell_type": "code",
   "execution_count": 44,
   "id": "d273190e",
   "metadata": {
    "scrolled": true
   },
   "outputs": [
    {
     "data": {
      "text/html": [
       "<div>\n",
       "<style scoped>\n",
       "    .dataframe tbody tr th:only-of-type {\n",
       "        vertical-align: middle;\n",
       "    }\n",
       "\n",
       "    .dataframe tbody tr th {\n",
       "        vertical-align: top;\n",
       "    }\n",
       "\n",
       "    .dataframe thead th {\n",
       "        text-align: right;\n",
       "    }\n",
       "</style>\n",
       "<table border=\"1\" class=\"dataframe\">\n",
       "  <thead>\n",
       "    <tr style=\"text-align: right;\">\n",
       "      <th></th>\n",
       "      <th>id_prod</th>\n",
       "      <th>date</th>\n",
       "      <th>session_id</th>\n",
       "      <th>client_id</th>\n",
       "    </tr>\n",
       "  </thead>\n",
       "  <tbody>\n",
       "    <tr>\n",
       "      <th>198325</th>\n",
       "      <td>1_400</td>\n",
       "      <td>2021-10-02 24:04:58.422464</td>\n",
       "      <td>s_107311</td>\n",
       "      <td>c_2513</td>\n",
       "    </tr>\n",
       "    <tr>\n",
       "      <th>198326</th>\n",
       "      <td>1_601</td>\n",
       "      <td>2021-10-02 24:04:59.254020</td>\n",
       "      <td>s_107311</td>\n",
       "      <td>c_2513</td>\n",
       "    </tr>\n",
       "    <tr>\n",
       "      <th>198327</th>\n",
       "      <td>1_735</td>\n",
       "      <td>2021-10-02 24:04:59.422464</td>\n",
       "      <td>s_107311</td>\n",
       "      <td>c_2513</td>\n",
       "    </tr>\n",
       "    <tr>\n",
       "      <th>198328</th>\n",
       "      <td>1_351</td>\n",
       "      <td>2021-10-02 24:04:59.913108</td>\n",
       "      <td>s_107311</td>\n",
       "      <td>c_2513</td>\n",
       "    </tr>\n",
       "    <tr>\n",
       "      <th>198329</th>\n",
       "      <td>1_400</td>\n",
       "      <td>2021-10-02 24:06:02.588166</td>\n",
       "      <td>s_107205</td>\n",
       "      <td>c_5036</td>\n",
       "    </tr>\n",
       "    <tr>\n",
       "      <th>...</th>\n",
       "      <td>...</td>\n",
       "      <td>...</td>\n",
       "      <td>...</td>\n",
       "      <td>...</td>\n",
       "    </tr>\n",
       "    <tr>\n",
       "      <th>221108</th>\n",
       "      <td>1_445</td>\n",
       "      <td>2021-10-26 24:36:01.240212</td>\n",
       "      <td>s_105041</td>\n",
       "      <td>c_3949</td>\n",
       "    </tr>\n",
       "    <tr>\n",
       "      <th>221109</th>\n",
       "      <td>1_296</td>\n",
       "      <td>2021-10-26 24:36:21.240212</td>\n",
       "      <td>s_105041</td>\n",
       "      <td>c_3949</td>\n",
       "    </tr>\n",
       "    <tr>\n",
       "      <th>221820</th>\n",
       "      <td>1_45</td>\n",
       "      <td>2021-10-27 24:18:21.505552</td>\n",
       "      <td>s_98882</td>\n",
       "      <td>c_7656</td>\n",
       "    </tr>\n",
       "    <tr>\n",
       "      <th>221821</th>\n",
       "      <td>1_431</td>\n",
       "      <td>2021-10-27 24:20:46.744883</td>\n",
       "      <td>s_99594</td>\n",
       "      <td>c_8073</td>\n",
       "    </tr>\n",
       "    <tr>\n",
       "      <th>221822</th>\n",
       "      <td>1_456</td>\n",
       "      <td>2021-10-27 24:23:49.513081</td>\n",
       "      <td>s_106368</td>\n",
       "      <td>c_8180</td>\n",
       "    </tr>\n",
       "  </tbody>\n",
       "</table>\n",
       "<p>236 rows × 4 columns</p>\n",
       "</div>"
      ],
      "text/plain": [
       "       id_prod                        date session_id client_id\n",
       "198325   1_400  2021-10-02 24:04:58.422464   s_107311    c_2513\n",
       "198326   1_601  2021-10-02 24:04:59.254020   s_107311    c_2513\n",
       "198327   1_735  2021-10-02 24:04:59.422464   s_107311    c_2513\n",
       "198328   1_351  2021-10-02 24:04:59.913108   s_107311    c_2513\n",
       "198329   1_400  2021-10-02 24:06:02.588166   s_107205    c_5036\n",
       "...        ...                         ...        ...       ...\n",
       "221108   1_445  2021-10-26 24:36:01.240212   s_105041    c_3949\n",
       "221109   1_296  2021-10-26 24:36:21.240212   s_105041    c_3949\n",
       "221820    1_45  2021-10-27 24:18:21.505552    s_98882    c_7656\n",
       "221821   1_431  2021-10-27 24:20:46.744883    s_99594    c_8073\n",
       "221822   1_456  2021-10-27 24:23:49.513081   s_106368    c_8180\n",
       "\n",
       "[236 rows x 4 columns]"
      ]
     },
     "execution_count": 44,
     "metadata": {},
     "output_type": "execute_result"
    }
   ],
   "source": [
    "#Sur 236 lignes minuit est écrit \"24:\"\n",
    "transactions.loc[transactions['date'].str.contains(' 24:')]\n"
   ]
  },
  {
   "cell_type": "code",
   "execution_count": 45,
   "id": "1b840644",
   "metadata": {},
   "outputs": [],
   "source": [
    "#modifications de \"24:\" par \"00:\"\n",
    "transactions['date']=transactions['date'].str.replace(' 24:' , ' 00:')\n"
   ]
  },
  {
   "cell_type": "code",
   "execution_count": 46,
   "id": "4171a6c3",
   "metadata": {},
   "outputs": [
    {
     "data": {
      "text/html": [
       "<div>\n",
       "<style scoped>\n",
       "    .dataframe tbody tr th:only-of-type {\n",
       "        vertical-align: middle;\n",
       "    }\n",
       "\n",
       "    .dataframe tbody tr th {\n",
       "        vertical-align: top;\n",
       "    }\n",
       "\n",
       "    .dataframe thead th {\n",
       "        text-align: right;\n",
       "    }\n",
       "</style>\n",
       "<table border=\"1\" class=\"dataframe\">\n",
       "  <thead>\n",
       "    <tr style=\"text-align: right;\">\n",
       "      <th></th>\n",
       "      <th>id_prod</th>\n",
       "      <th>date</th>\n",
       "      <th>session_id</th>\n",
       "      <th>client_id</th>\n",
       "    </tr>\n",
       "  </thead>\n",
       "  <tbody>\n",
       "  </tbody>\n",
       "</table>\n",
       "</div>"
      ],
      "text/plain": [
       "Empty DataFrame\n",
       "Columns: [id_prod, date, session_id, client_id]\n",
       "Index: []"
      ]
     },
     "execution_count": 46,
     "metadata": {},
     "output_type": "execute_result"
    }
   ],
   "source": [
    "transactions.loc[transactions['date'].str.contains(' 24:')]\n"
   ]
  },
  {
   "cell_type": "code",
   "execution_count": 47,
   "id": "35293261",
   "metadata": {},
   "outputs": [
    {
     "data": {
      "text/plain": [
       "'2021-03-01 00:01:07.843138'"
      ]
     },
     "execution_count": 47,
     "metadata": {},
     "output_type": "execute_result"
    }
   ],
   "source": [
    "#vérifications des dates de début et fin des transactions\n",
    "transactions['date'].min()\n"
   ]
  },
  {
   "cell_type": "code",
   "execution_count": 48,
   "id": "6a36642f",
   "metadata": {},
   "outputs": [
    {
     "data": {
      "text/plain": [
       "'2023-02-28 23:58:30.792755'"
      ]
     },
     "execution_count": 48,
     "metadata": {},
     "output_type": "execute_result"
    }
   ],
   "source": [
    "transactions['date'].max()\n"
   ]
  },
  {
   "cell_type": "code",
   "execution_count": 49,
   "id": "85c600f5",
   "metadata": {},
   "outputs": [
    {
     "data": {
      "text/plain": [
       "0"
      ]
     },
     "execution_count": 49,
     "metadata": {},
     "output_type": "execute_result"
    }
   ],
   "source": [
    "#recherche de doublons \n",
    "transactions.duplicated(keep=False).sum()\n"
   ]
  },
  {
   "cell_type": "code",
   "execution_count": 50,
   "id": "984a2cbc",
   "metadata": {},
   "outputs": [],
   "source": [
    "nbr_doublons_transactions=transactions.groupby(by='session_id', as_index=False).size()\n"
   ]
  },
  {
   "cell_type": "code",
   "execution_count": 51,
   "id": "12c33bdc",
   "metadata": {},
   "outputs": [
    {
     "data": {
      "text/plain": [
       "14"
      ]
     },
     "execution_count": 51,
     "metadata": {},
     "output_type": "execute_result"
    }
   ],
   "source": [
    "nbr_doublons_transactions['size'].max()\n"
   ]
  },
  {
   "cell_type": "code",
   "execution_count": 52,
   "id": "90e297c2",
   "metadata": {},
   "outputs": [
    {
     "data": {
      "text/plain": [
       "1"
      ]
     },
     "execution_count": 52,
     "metadata": {},
     "output_type": "execute_result"
    }
   ],
   "source": [
    "nbr_doublons_transactions['size'].min()\n"
   ]
  },
  {
   "cell_type": "code",
   "execution_count": 53,
   "id": "6deb3a93",
   "metadata": {},
   "outputs": [
    {
     "data": {
      "text/html": [
       "<div>\n",
       "<style scoped>\n",
       "    .dataframe tbody tr th:only-of-type {\n",
       "        vertical-align: middle;\n",
       "    }\n",
       "\n",
       "    .dataframe tbody tr th {\n",
       "        vertical-align: top;\n",
       "    }\n",
       "\n",
       "    .dataframe thead th {\n",
       "        text-align: right;\n",
       "    }\n",
       "</style>\n",
       "<table border=\"1\" class=\"dataframe\">\n",
       "  <thead>\n",
       "    <tr style=\"text-align: right;\">\n",
       "      <th></th>\n",
       "      <th></th>\n",
       "      <th>id_prod</th>\n",
       "      <th>date</th>\n",
       "    </tr>\n",
       "    <tr>\n",
       "      <th>session_id</th>\n",
       "      <th>client_id</th>\n",
       "      <th></th>\n",
       "      <th></th>\n",
       "    </tr>\n",
       "  </thead>\n",
       "  <tbody>\n",
       "    <tr>\n",
       "      <th>s_1</th>\n",
       "      <th>c_329</th>\n",
       "      <td>1</td>\n",
       "      <td>1</td>\n",
       "    </tr>\n",
       "    <tr>\n",
       "      <th>s_10</th>\n",
       "      <th>c_2218</th>\n",
       "      <td>1</td>\n",
       "      <td>1</td>\n",
       "    </tr>\n",
       "    <tr>\n",
       "      <th>s_100</th>\n",
       "      <th>c_3854</th>\n",
       "      <td>2</td>\n",
       "      <td>2</td>\n",
       "    </tr>\n",
       "    <tr>\n",
       "      <th>s_1000</th>\n",
       "      <th>c_1014</th>\n",
       "      <td>4</td>\n",
       "      <td>4</td>\n",
       "    </tr>\n",
       "    <tr>\n",
       "      <th>s_10000</th>\n",
       "      <th>c_476</th>\n",
       "      <td>3</td>\n",
       "      <td>3</td>\n",
       "    </tr>\n",
       "  </tbody>\n",
       "</table>\n",
       "</div>"
      ],
      "text/plain": [
       "                      id_prod  date\n",
       "session_id client_id               \n",
       "s_1        c_329            1     1\n",
       "s_10       c_2218           1     1\n",
       "s_100      c_3854           2     2\n",
       "s_1000     c_1014           4     4\n",
       "s_10000    c_476            3     3"
      ]
     },
     "execution_count": 53,
     "metadata": {},
     "output_type": "execute_result"
    }
   ],
   "source": [
    "#df par session et client\n",
    "transactions.groupby(['session_id','client_id']).nunique().head()\n"
   ]
  },
  {
   "cell_type": "code",
   "execution_count": 54,
   "id": "9779a737",
   "metadata": {},
   "outputs": [],
   "source": [
    "#créations d'une clé unique pour chaque transactions et la vérifier\n",
    "transactions['key']=transactions['id_prod']+transactions['date']+transactions['session_id']+transactions['client_id']\n"
   ]
  },
  {
   "cell_type": "code",
   "execution_count": 55,
   "id": "1efe085c",
   "metadata": {},
   "outputs": [
    {
     "data": {
      "text/html": [
       "<div>\n",
       "<style scoped>\n",
       "    .dataframe tbody tr th:only-of-type {\n",
       "        vertical-align: middle;\n",
       "    }\n",
       "\n",
       "    .dataframe tbody tr th {\n",
       "        vertical-align: top;\n",
       "    }\n",
       "\n",
       "    .dataframe thead th {\n",
       "        text-align: right;\n",
       "    }\n",
       "</style>\n",
       "<table border=\"1\" class=\"dataframe\">\n",
       "  <thead>\n",
       "    <tr style=\"text-align: right;\">\n",
       "      <th></th>\n",
       "      <th>id_prod</th>\n",
       "      <th>date</th>\n",
       "      <th>session_id</th>\n",
       "      <th>client_id</th>\n",
       "      <th>key</th>\n",
       "    </tr>\n",
       "  </thead>\n",
       "  <tbody>\n",
       "    <tr>\n",
       "      <th>0</th>\n",
       "      <td>0_1259</td>\n",
       "      <td>2021-03-01 00:01:07.843138</td>\n",
       "      <td>s_1</td>\n",
       "      <td>c_329</td>\n",
       "      <td>0_12592021-03-01 00:01:07.843138s_1c_329</td>\n",
       "    </tr>\n",
       "    <tr>\n",
       "      <th>1</th>\n",
       "      <td>0_1390</td>\n",
       "      <td>2021-03-01 00:02:26.047414</td>\n",
       "      <td>s_2</td>\n",
       "      <td>c_664</td>\n",
       "      <td>0_13902021-03-01 00:02:26.047414s_2c_664</td>\n",
       "    </tr>\n",
       "    <tr>\n",
       "      <th>2</th>\n",
       "      <td>0_1352</td>\n",
       "      <td>2021-03-01 00:02:38.311413</td>\n",
       "      <td>s_3</td>\n",
       "      <td>c_580</td>\n",
       "      <td>0_13522021-03-01 00:02:38.311413s_3c_580</td>\n",
       "    </tr>\n",
       "    <tr>\n",
       "      <th>3</th>\n",
       "      <td>0_1458</td>\n",
       "      <td>2021-03-01 00:04:54.559692</td>\n",
       "      <td>s_4</td>\n",
       "      <td>c_7912</td>\n",
       "      <td>0_14582021-03-01 00:04:54.559692s_4c_7912</td>\n",
       "    </tr>\n",
       "    <tr>\n",
       "      <th>4</th>\n",
       "      <td>0_1358</td>\n",
       "      <td>2021-03-01 00:05:18.801198</td>\n",
       "      <td>s_5</td>\n",
       "      <td>c_2033</td>\n",
       "      <td>0_13582021-03-01 00:05:18.801198s_5c_2033</td>\n",
       "    </tr>\n",
       "  </tbody>\n",
       "</table>\n",
       "</div>"
      ],
      "text/plain": [
       "  id_prod                        date session_id client_id  \\\n",
       "0  0_1259  2021-03-01 00:01:07.843138        s_1     c_329   \n",
       "1  0_1390  2021-03-01 00:02:26.047414        s_2     c_664   \n",
       "2  0_1352  2021-03-01 00:02:38.311413        s_3     c_580   \n",
       "3  0_1458  2021-03-01 00:04:54.559692        s_4    c_7912   \n",
       "4  0_1358  2021-03-01 00:05:18.801198        s_5    c_2033   \n",
       "\n",
       "                                         key  \n",
       "0   0_12592021-03-01 00:01:07.843138s_1c_329  \n",
       "1   0_13902021-03-01 00:02:26.047414s_2c_664  \n",
       "2   0_13522021-03-01 00:02:38.311413s_3c_580  \n",
       "3  0_14582021-03-01 00:04:54.559692s_4c_7912  \n",
       "4  0_13582021-03-01 00:05:18.801198s_5c_2033  "
      ]
     },
     "execution_count": 55,
     "metadata": {},
     "output_type": "execute_result"
    }
   ],
   "source": [
    "transactions.head()"
   ]
  },
  {
   "cell_type": "code",
   "execution_count": 56,
   "id": "1ba15329",
   "metadata": {},
   "outputs": [
    {
     "data": {
      "text/plain": [
       "687534"
      ]
     },
     "execution_count": 56,
     "metadata": {},
     "output_type": "execute_result"
    }
   ],
   "source": [
    "transactions['key'].nunique()\n"
   ]
  },
  {
   "cell_type": "code",
   "execution_count": 57,
   "id": "735b2d21",
   "metadata": {},
   "outputs": [
    {
     "data": {
      "text/html": [
       "<div>\n",
       "<style scoped>\n",
       "    .dataframe tbody tr th:only-of-type {\n",
       "        vertical-align: middle;\n",
       "    }\n",
       "\n",
       "    .dataframe tbody tr th {\n",
       "        vertical-align: top;\n",
       "    }\n",
       "\n",
       "    .dataframe thead th {\n",
       "        text-align: right;\n",
       "    }\n",
       "</style>\n",
       "<table border=\"1\" class=\"dataframe\">\n",
       "  <thead>\n",
       "    <tr style=\"text-align: right;\">\n",
       "      <th></th>\n",
       "      <th>id_prod</th>\n",
       "      <th>date</th>\n",
       "      <th>session_id</th>\n",
       "      <th>client_id</th>\n",
       "      <th>key</th>\n",
       "    </tr>\n",
       "  </thead>\n",
       "  <tbody>\n",
       "  </tbody>\n",
       "</table>\n",
       "</div>"
      ],
      "text/plain": [
       "Empty DataFrame\n",
       "Columns: [id_prod, date, session_id, client_id, key]\n",
       "Index: []"
      ]
     },
     "execution_count": 57,
     "metadata": {},
     "output_type": "execute_result"
    }
   ],
   "source": [
    "#aucun doublons sur la clé (key) de chaque transactions\n",
    "transactions.loc[transactions['key'].duplicated(keep=False),:]\n"
   ]
  },
  {
   "cell_type": "code",
   "execution_count": 58,
   "id": "8b83c244",
   "metadata": {},
   "outputs": [],
   "source": [
    "#création d'une colonne avec clé unique par ligne en utilisant l'index du dataframe\n",
    "transactions['keys']=transactions.index\n"
   ]
  },
  {
   "cell_type": "code",
   "execution_count": 59,
   "id": "b7ef4c14",
   "metadata": {},
   "outputs": [],
   "source": [
    "transactions=transactions.drop(columns='key',axis=1)\n"
   ]
  },
  {
   "cell_type": "code",
   "execution_count": 60,
   "id": "90e6bf34",
   "metadata": {},
   "outputs": [
    {
     "data": {
      "text/html": [
       "<div>\n",
       "<style scoped>\n",
       "    .dataframe tbody tr th:only-of-type {\n",
       "        vertical-align: middle;\n",
       "    }\n",
       "\n",
       "    .dataframe tbody tr th {\n",
       "        vertical-align: top;\n",
       "    }\n",
       "\n",
       "    .dataframe thead th {\n",
       "        text-align: right;\n",
       "    }\n",
       "</style>\n",
       "<table border=\"1\" class=\"dataframe\">\n",
       "  <thead>\n",
       "    <tr style=\"text-align: right;\">\n",
       "      <th></th>\n",
       "      <th>id_prod</th>\n",
       "      <th>date</th>\n",
       "      <th>session_id</th>\n",
       "      <th>client_id</th>\n",
       "      <th>keys</th>\n",
       "    </tr>\n",
       "  </thead>\n",
       "  <tbody>\n",
       "    <tr>\n",
       "      <th>0</th>\n",
       "      <td>0_1259</td>\n",
       "      <td>2021-03-01 00:01:07.843138</td>\n",
       "      <td>s_1</td>\n",
       "      <td>c_329</td>\n",
       "      <td>0</td>\n",
       "    </tr>\n",
       "    <tr>\n",
       "      <th>1</th>\n",
       "      <td>0_1390</td>\n",
       "      <td>2021-03-01 00:02:26.047414</td>\n",
       "      <td>s_2</td>\n",
       "      <td>c_664</td>\n",
       "      <td>1</td>\n",
       "    </tr>\n",
       "    <tr>\n",
       "      <th>2</th>\n",
       "      <td>0_1352</td>\n",
       "      <td>2021-03-01 00:02:38.311413</td>\n",
       "      <td>s_3</td>\n",
       "      <td>c_580</td>\n",
       "      <td>2</td>\n",
       "    </tr>\n",
       "    <tr>\n",
       "      <th>3</th>\n",
       "      <td>0_1458</td>\n",
       "      <td>2021-03-01 00:04:54.559692</td>\n",
       "      <td>s_4</td>\n",
       "      <td>c_7912</td>\n",
       "      <td>3</td>\n",
       "    </tr>\n",
       "    <tr>\n",
       "      <th>4</th>\n",
       "      <td>0_1358</td>\n",
       "      <td>2021-03-01 00:05:18.801198</td>\n",
       "      <td>s_5</td>\n",
       "      <td>c_2033</td>\n",
       "      <td>4</td>\n",
       "    </tr>\n",
       "  </tbody>\n",
       "</table>\n",
       "</div>"
      ],
      "text/plain": [
       "  id_prod                        date session_id client_id  keys\n",
       "0  0_1259  2021-03-01 00:01:07.843138        s_1     c_329     0\n",
       "1  0_1390  2021-03-01 00:02:26.047414        s_2     c_664     1\n",
       "2  0_1352  2021-03-01 00:02:38.311413        s_3     c_580     2\n",
       "3  0_1458  2021-03-01 00:04:54.559692        s_4    c_7912     3\n",
       "4  0_1358  2021-03-01 00:05:18.801198        s_5    c_2033     4"
      ]
     },
     "execution_count": 60,
     "metadata": {},
     "output_type": "execute_result"
    }
   ],
   "source": [
    "transactions.head()\n"
   ]
  },
  {
   "cell_type": "code",
   "execution_count": 61,
   "id": "ac51ef75",
   "metadata": {},
   "outputs": [],
   "source": [
    "transactions['date'] = pd.to_datetime(transactions['date'])\n"
   ]
  },
  {
   "cell_type": "markdown",
   "id": "69f48143",
   "metadata": {},
   "source": [
    "## Jointure des dataframes"
   ]
  },
  {
   "cell_type": "code",
   "execution_count": 62,
   "id": "5680bfa0",
   "metadata": {},
   "outputs": [],
   "source": [
    "transactions_products=pd.merge(transactions, products, on='id_prod', how='left')\n"
   ]
  },
  {
   "cell_type": "code",
   "execution_count": 63,
   "id": "ec2b1451",
   "metadata": {},
   "outputs": [],
   "source": [
    "tableau_final=pd.merge(transactions_products, customers, on='client_id', how='left')\n"
   ]
  },
  {
   "cell_type": "code",
   "execution_count": 64,
   "id": "9188f683",
   "metadata": {},
   "outputs": [
    {
     "data": {
      "text/html": [
       "<div>\n",
       "<style scoped>\n",
       "    .dataframe tbody tr th:only-of-type {\n",
       "        vertical-align: middle;\n",
       "    }\n",
       "\n",
       "    .dataframe tbody tr th {\n",
       "        vertical-align: top;\n",
       "    }\n",
       "\n",
       "    .dataframe thead th {\n",
       "        text-align: right;\n",
       "    }\n",
       "</style>\n",
       "<table border=\"1\" class=\"dataframe\">\n",
       "  <thead>\n",
       "    <tr style=\"text-align: right;\">\n",
       "      <th></th>\n",
       "      <th>id_prod</th>\n",
       "      <th>date</th>\n",
       "      <th>session_id</th>\n",
       "      <th>client_id</th>\n",
       "      <th>keys</th>\n",
       "      <th>price</th>\n",
       "      <th>categ</th>\n",
       "      <th>sex</th>\n",
       "      <th>birth</th>\n",
       "    </tr>\n",
       "  </thead>\n",
       "  <tbody>\n",
       "    <tr>\n",
       "      <th>0</th>\n",
       "      <td>0_1259</td>\n",
       "      <td>2021-03-01 00:01:07.843138</td>\n",
       "      <td>s_1</td>\n",
       "      <td>c_329</td>\n",
       "      <td>0</td>\n",
       "      <td>11.99</td>\n",
       "      <td>0</td>\n",
       "      <td>f</td>\n",
       "      <td>1967</td>\n",
       "    </tr>\n",
       "    <tr>\n",
       "      <th>1</th>\n",
       "      <td>0_1390</td>\n",
       "      <td>2021-03-01 00:02:26.047414</td>\n",
       "      <td>s_2</td>\n",
       "      <td>c_664</td>\n",
       "      <td>1</td>\n",
       "      <td>19.37</td>\n",
       "      <td>0</td>\n",
       "      <td>m</td>\n",
       "      <td>1960</td>\n",
       "    </tr>\n",
       "    <tr>\n",
       "      <th>2</th>\n",
       "      <td>0_1352</td>\n",
       "      <td>2021-03-01 00:02:38.311413</td>\n",
       "      <td>s_3</td>\n",
       "      <td>c_580</td>\n",
       "      <td>2</td>\n",
       "      <td>4.50</td>\n",
       "      <td>0</td>\n",
       "      <td>m</td>\n",
       "      <td>1988</td>\n",
       "    </tr>\n",
       "    <tr>\n",
       "      <th>3</th>\n",
       "      <td>0_1458</td>\n",
       "      <td>2021-03-01 00:04:54.559692</td>\n",
       "      <td>s_4</td>\n",
       "      <td>c_7912</td>\n",
       "      <td>3</td>\n",
       "      <td>6.55</td>\n",
       "      <td>0</td>\n",
       "      <td>f</td>\n",
       "      <td>1989</td>\n",
       "    </tr>\n",
       "    <tr>\n",
       "      <th>4</th>\n",
       "      <td>0_1358</td>\n",
       "      <td>2021-03-01 00:05:18.801198</td>\n",
       "      <td>s_5</td>\n",
       "      <td>c_2033</td>\n",
       "      <td>4</td>\n",
       "      <td>16.49</td>\n",
       "      <td>0</td>\n",
       "      <td>f</td>\n",
       "      <td>1956</td>\n",
       "    </tr>\n",
       "  </tbody>\n",
       "</table>\n",
       "</div>"
      ],
      "text/plain": [
       "  id_prod                       date session_id client_id  keys  price  categ  \\\n",
       "0  0_1259 2021-03-01 00:01:07.843138        s_1     c_329     0  11.99      0   \n",
       "1  0_1390 2021-03-01 00:02:26.047414        s_2     c_664     1  19.37      0   \n",
       "2  0_1352 2021-03-01 00:02:38.311413        s_3     c_580     2   4.50      0   \n",
       "3  0_1458 2021-03-01 00:04:54.559692        s_4    c_7912     3   6.55      0   \n",
       "4  0_1358 2021-03-01 00:05:18.801198        s_5    c_2033     4  16.49      0   \n",
       "\n",
       "  sex  birth  \n",
       "0   f   1967  \n",
       "1   m   1960  \n",
       "2   m   1988  \n",
       "3   f   1989  \n",
       "4   f   1956  "
      ]
     },
     "execution_count": 64,
     "metadata": {},
     "output_type": "execute_result"
    }
   ],
   "source": [
    "tableau_final.head()\n"
   ]
  },
  {
   "cell_type": "code",
   "execution_count": 65,
   "id": "38b9cc25",
   "metadata": {},
   "outputs": [
    {
     "data": {
      "text/plain": [
       "(687534, 9)"
      ]
     },
     "execution_count": 65,
     "metadata": {},
     "output_type": "execute_result"
    }
   ],
   "source": [
    "tableau_final.shape\n"
   ]
  },
  {
   "cell_type": "code",
   "execution_count": 66,
   "id": "c404259f",
   "metadata": {},
   "outputs": [
    {
     "name": "stdout",
     "output_type": "stream",
     "text": [
      "id_prod       0\n",
      "date          0\n",
      "session_id    0\n",
      "client_id     0\n",
      "keys          0\n",
      "price         0\n",
      "categ         0\n",
      "sex           0\n",
      "birth         0\n",
      "dtype: int64\n"
     ]
    }
   ],
   "source": [
    "#vérifions que le dataframe final ne comporte pas de données manquantes\n",
    "print(tableau_final.isnull().sum())\n"
   ]
  },
  {
   "cell_type": "code",
   "execution_count": 67,
   "id": "378cd202",
   "metadata": {},
   "outputs": [],
   "source": [
    "#création colonne age\n",
    "tableau_final['age']= date.today().year-tableau_final['birth']\n",
    "#tableau_final.head()"
   ]
  },
  {
   "cell_type": "code",
   "execution_count": 68,
   "id": "0a7825e7",
   "metadata": {
    "scrolled": true
   },
   "outputs": [
    {
     "data": {
      "text/html": [
       "<div>\n",
       "<style scoped>\n",
       "    .dataframe tbody tr th:only-of-type {\n",
       "        vertical-align: middle;\n",
       "    }\n",
       "\n",
       "    .dataframe tbody tr th {\n",
       "        vertical-align: top;\n",
       "    }\n",
       "\n",
       "    .dataframe thead th {\n",
       "        text-align: right;\n",
       "    }\n",
       "</style>\n",
       "<table border=\"1\" class=\"dataframe\">\n",
       "  <thead>\n",
       "    <tr style=\"text-align: right;\">\n",
       "      <th></th>\n",
       "      <th>id_prod</th>\n",
       "      <th>date</th>\n",
       "      <th>session_id</th>\n",
       "      <th>client_id</th>\n",
       "      <th>keys</th>\n",
       "      <th>price</th>\n",
       "      <th>categ</th>\n",
       "      <th>sex</th>\n",
       "      <th>birth</th>\n",
       "      <th>age</th>\n",
       "      <th>tranche_age</th>\n",
       "    </tr>\n",
       "  </thead>\n",
       "  <tbody>\n",
       "    <tr>\n",
       "      <th>0</th>\n",
       "      <td>0_1259</td>\n",
       "      <td>2021-03-01 00:01:07.843138</td>\n",
       "      <td>s_1</td>\n",
       "      <td>c_329</td>\n",
       "      <td>0</td>\n",
       "      <td>11.99</td>\n",
       "      <td>0</td>\n",
       "      <td>f</td>\n",
       "      <td>1967</td>\n",
       "      <td>57</td>\n",
       "      <td>Adultes(51_65A)</td>\n",
       "    </tr>\n",
       "    <tr>\n",
       "      <th>1</th>\n",
       "      <td>0_1390</td>\n",
       "      <td>2021-03-01 00:02:26.047414</td>\n",
       "      <td>s_2</td>\n",
       "      <td>c_664</td>\n",
       "      <td>1</td>\n",
       "      <td>19.37</td>\n",
       "      <td>0</td>\n",
       "      <td>m</td>\n",
       "      <td>1960</td>\n",
       "      <td>64</td>\n",
       "      <td>Adultes(51_65A)</td>\n",
       "    </tr>\n",
       "    <tr>\n",
       "      <th>2</th>\n",
       "      <td>0_1352</td>\n",
       "      <td>2021-03-01 00:02:38.311413</td>\n",
       "      <td>s_3</td>\n",
       "      <td>c_580</td>\n",
       "      <td>2</td>\n",
       "      <td>4.50</td>\n",
       "      <td>0</td>\n",
       "      <td>m</td>\n",
       "      <td>1988</td>\n",
       "      <td>36</td>\n",
       "      <td>Adultes_jeunes(36_50A)</td>\n",
       "    </tr>\n",
       "    <tr>\n",
       "      <th>3</th>\n",
       "      <td>0_1458</td>\n",
       "      <td>2021-03-01 00:04:54.559692</td>\n",
       "      <td>s_4</td>\n",
       "      <td>c_7912</td>\n",
       "      <td>3</td>\n",
       "      <td>6.55</td>\n",
       "      <td>0</td>\n",
       "      <td>f</td>\n",
       "      <td>1989</td>\n",
       "      <td>35</td>\n",
       "      <td>jeunes(-35A)</td>\n",
       "    </tr>\n",
       "    <tr>\n",
       "      <th>4</th>\n",
       "      <td>0_1358</td>\n",
       "      <td>2021-03-01 00:05:18.801198</td>\n",
       "      <td>s_5</td>\n",
       "      <td>c_2033</td>\n",
       "      <td>4</td>\n",
       "      <td>16.49</td>\n",
       "      <td>0</td>\n",
       "      <td>f</td>\n",
       "      <td>1956</td>\n",
       "      <td>68</td>\n",
       "      <td>Seniors1(66_80A)</td>\n",
       "    </tr>\n",
       "  </tbody>\n",
       "</table>\n",
       "</div>"
      ],
      "text/plain": [
       "  id_prod                       date session_id client_id  keys  price  categ  \\\n",
       "0  0_1259 2021-03-01 00:01:07.843138        s_1     c_329     0  11.99      0   \n",
       "1  0_1390 2021-03-01 00:02:26.047414        s_2     c_664     1  19.37      0   \n",
       "2  0_1352 2021-03-01 00:02:38.311413        s_3     c_580     2   4.50      0   \n",
       "3  0_1458 2021-03-01 00:04:54.559692        s_4    c_7912     3   6.55      0   \n",
       "4  0_1358 2021-03-01 00:05:18.801198        s_5    c_2033     4  16.49      0   \n",
       "\n",
       "  sex  birth  age             tranche_age  \n",
       "0   f   1967   57         Adultes(51_65A)  \n",
       "1   m   1960   64         Adultes(51_65A)  \n",
       "2   m   1988   36  Adultes_jeunes(36_50A)  \n",
       "3   f   1989   35            jeunes(-35A)  \n",
       "4   f   1956   68        Seniors1(66_80A)  "
      ]
     },
     "execution_count": 68,
     "metadata": {},
     "output_type": "execute_result"
    }
   ],
   "source": [
    "#création d'une colonne avec la classification des clients par tranche d'age \n",
    "tableau_final['tranche_age']=pd.cut(x=tableau_final['age'], bins=5, labels=[\"jeunes(-35A)\", \"Adultes_jeunes(36_50A)\", \"Adultes(51_65A)\", \"Seniors1(66_80A)\", \"Seniors2(81_95A)\"])\n",
    "tableau_final.head()"
   ]
  },
  {
   "cell_type": "code",
   "execution_count": 69,
   "id": "f8b30e95",
   "metadata": {},
   "outputs": [],
   "source": [
    "#Création de colonnes année, mois,...."
   ]
  },
  {
   "cell_type": "code",
   "execution_count": 70,
   "id": "fbb2c3ad",
   "metadata": {},
   "outputs": [],
   "source": [
    "tableau_final['date2'] = tableau_final['date'].dt.date"
   ]
  },
  {
   "cell_type": "code",
   "execution_count": 71,
   "id": "6d387b9c",
   "metadata": {},
   "outputs": [],
   "source": [
    "tableau_final['annee'] = tableau_final['date'].dt.year"
   ]
  },
  {
   "cell_type": "code",
   "execution_count": 72,
   "id": "43dd8808",
   "metadata": {},
   "outputs": [],
   "source": [
    "tableau_final['mois'] = tableau_final['date'].dt.month"
   ]
  },
  {
   "cell_type": "code",
   "execution_count": 73,
   "id": "0ac396dc",
   "metadata": {},
   "outputs": [],
   "source": [
    "tableau_final['mois_annee'] = tableau_final['date'].dt.strftime('%m-%Y')"
   ]
  },
  {
   "cell_type": "code",
   "execution_count": 74,
   "id": "0387e9cb",
   "metadata": {},
   "outputs": [
    {
     "data": {
      "text/html": [
       "<div>\n",
       "<style scoped>\n",
       "    .dataframe tbody tr th:only-of-type {\n",
       "        vertical-align: middle;\n",
       "    }\n",
       "\n",
       "    .dataframe tbody tr th {\n",
       "        vertical-align: top;\n",
       "    }\n",
       "\n",
       "    .dataframe thead th {\n",
       "        text-align: right;\n",
       "    }\n",
       "</style>\n",
       "<table border=\"1\" class=\"dataframe\">\n",
       "  <thead>\n",
       "    <tr style=\"text-align: right;\">\n",
       "      <th></th>\n",
       "      <th>id_prod</th>\n",
       "      <th>date</th>\n",
       "      <th>session_id</th>\n",
       "      <th>client_id</th>\n",
       "      <th>keys</th>\n",
       "      <th>price</th>\n",
       "      <th>categ</th>\n",
       "      <th>sex</th>\n",
       "      <th>birth</th>\n",
       "      <th>age</th>\n",
       "      <th>tranche_age</th>\n",
       "      <th>date2</th>\n",
       "      <th>annee</th>\n",
       "      <th>mois</th>\n",
       "      <th>mois_annee</th>\n",
       "    </tr>\n",
       "  </thead>\n",
       "  <tbody>\n",
       "    <tr>\n",
       "      <th>0</th>\n",
       "      <td>0_1259</td>\n",
       "      <td>2021-03-01 00:01:07.843138</td>\n",
       "      <td>s_1</td>\n",
       "      <td>c_329</td>\n",
       "      <td>0</td>\n",
       "      <td>11.99</td>\n",
       "      <td>0</td>\n",
       "      <td>f</td>\n",
       "      <td>1967</td>\n",
       "      <td>57</td>\n",
       "      <td>Adultes(51_65A)</td>\n",
       "      <td>2021-03-01</td>\n",
       "      <td>2021</td>\n",
       "      <td>3</td>\n",
       "      <td>03-2021</td>\n",
       "    </tr>\n",
       "    <tr>\n",
       "      <th>1</th>\n",
       "      <td>0_1390</td>\n",
       "      <td>2021-03-01 00:02:26.047414</td>\n",
       "      <td>s_2</td>\n",
       "      <td>c_664</td>\n",
       "      <td>1</td>\n",
       "      <td>19.37</td>\n",
       "      <td>0</td>\n",
       "      <td>m</td>\n",
       "      <td>1960</td>\n",
       "      <td>64</td>\n",
       "      <td>Adultes(51_65A)</td>\n",
       "      <td>2021-03-01</td>\n",
       "      <td>2021</td>\n",
       "      <td>3</td>\n",
       "      <td>03-2021</td>\n",
       "    </tr>\n",
       "    <tr>\n",
       "      <th>2</th>\n",
       "      <td>0_1352</td>\n",
       "      <td>2021-03-01 00:02:38.311413</td>\n",
       "      <td>s_3</td>\n",
       "      <td>c_580</td>\n",
       "      <td>2</td>\n",
       "      <td>4.50</td>\n",
       "      <td>0</td>\n",
       "      <td>m</td>\n",
       "      <td>1988</td>\n",
       "      <td>36</td>\n",
       "      <td>Adultes_jeunes(36_50A)</td>\n",
       "      <td>2021-03-01</td>\n",
       "      <td>2021</td>\n",
       "      <td>3</td>\n",
       "      <td>03-2021</td>\n",
       "    </tr>\n",
       "    <tr>\n",
       "      <th>3</th>\n",
       "      <td>0_1458</td>\n",
       "      <td>2021-03-01 00:04:54.559692</td>\n",
       "      <td>s_4</td>\n",
       "      <td>c_7912</td>\n",
       "      <td>3</td>\n",
       "      <td>6.55</td>\n",
       "      <td>0</td>\n",
       "      <td>f</td>\n",
       "      <td>1989</td>\n",
       "      <td>35</td>\n",
       "      <td>jeunes(-35A)</td>\n",
       "      <td>2021-03-01</td>\n",
       "      <td>2021</td>\n",
       "      <td>3</td>\n",
       "      <td>03-2021</td>\n",
       "    </tr>\n",
       "    <tr>\n",
       "      <th>4</th>\n",
       "      <td>0_1358</td>\n",
       "      <td>2021-03-01 00:05:18.801198</td>\n",
       "      <td>s_5</td>\n",
       "      <td>c_2033</td>\n",
       "      <td>4</td>\n",
       "      <td>16.49</td>\n",
       "      <td>0</td>\n",
       "      <td>f</td>\n",
       "      <td>1956</td>\n",
       "      <td>68</td>\n",
       "      <td>Seniors1(66_80A)</td>\n",
       "      <td>2021-03-01</td>\n",
       "      <td>2021</td>\n",
       "      <td>3</td>\n",
       "      <td>03-2021</td>\n",
       "    </tr>\n",
       "  </tbody>\n",
       "</table>\n",
       "</div>"
      ],
      "text/plain": [
       "  id_prod                       date session_id client_id  keys  price  categ  \\\n",
       "0  0_1259 2021-03-01 00:01:07.843138        s_1     c_329     0  11.99      0   \n",
       "1  0_1390 2021-03-01 00:02:26.047414        s_2     c_664     1  19.37      0   \n",
       "2  0_1352 2021-03-01 00:02:38.311413        s_3     c_580     2   4.50      0   \n",
       "3  0_1458 2021-03-01 00:04:54.559692        s_4    c_7912     3   6.55      0   \n",
       "4  0_1358 2021-03-01 00:05:18.801198        s_5    c_2033     4  16.49      0   \n",
       "\n",
       "  sex  birth  age             tranche_age       date2  annee  mois mois_annee  \n",
       "0   f   1967   57         Adultes(51_65A)  2021-03-01   2021     3    03-2021  \n",
       "1   m   1960   64         Adultes(51_65A)  2021-03-01   2021     3    03-2021  \n",
       "2   m   1988   36  Adultes_jeunes(36_50A)  2021-03-01   2021     3    03-2021  \n",
       "3   f   1989   35            jeunes(-35A)  2021-03-01   2021     3    03-2021  \n",
       "4   f   1956   68        Seniors1(66_80A)  2021-03-01   2021     3    03-2021  "
      ]
     },
     "execution_count": 74,
     "metadata": {},
     "output_type": "execute_result"
    }
   ],
   "source": [
    "tableau_final.head()"
   ]
  },
  {
   "cell_type": "code",
   "execution_count": 75,
   "id": "46771dd9",
   "metadata": {},
   "outputs": [
    {
     "name": "stdout",
     "output_type": "stream",
     "text": [
      "<class 'pandas.core.frame.DataFrame'>\n",
      "RangeIndex: 687534 entries, 0 to 687533\n",
      "Data columns (total 15 columns):\n",
      " #   Column       Non-Null Count   Dtype         \n",
      "---  ------       --------------   -----         \n",
      " 0   id_prod      687534 non-null  object        \n",
      " 1   date         687534 non-null  datetime64[ns]\n",
      " 2   session_id   687534 non-null  object        \n",
      " 3   client_id    687534 non-null  object        \n",
      " 4   keys         687534 non-null  int64         \n",
      " 5   price        687534 non-null  float64       \n",
      " 6   categ        687534 non-null  int64         \n",
      " 7   sex          687534 non-null  object        \n",
      " 8   birth        687534 non-null  int64         \n",
      " 9   age          687534 non-null  int64         \n",
      " 10  tranche_age  687534 non-null  category      \n",
      " 11  date2        687534 non-null  object        \n",
      " 12  annee        687534 non-null  int32         \n",
      " 13  mois         687534 non-null  int32         \n",
      " 14  mois_annee   687534 non-null  object        \n",
      "dtypes: category(1), datetime64[ns](1), float64(1), int32(2), int64(4), object(6)\n",
      "memory usage: 68.8+ MB\n"
     ]
    }
   ],
   "source": [
    "tableau_final.info()"
   ]
  },
  {
   "cell_type": "markdown",
   "id": "e3fe896c",
   "metadata": {},
   "source": [
    "# <a name=\"C5\">Indicateurs et graphiques autour du chiffre d'affaires"
   ]
  },
  {
   "cell_type": "markdown",
   "id": "738c1a47",
   "metadata": {},
   "source": [
    "## Chiffre d'affaires"
   ]
  },
  {
   "cell_type": "code",
   "execution_count": 76,
   "id": "f82b9003",
   "metadata": {},
   "outputs": [],
   "source": [
    "#copie du dataframe (aprés jointure costumers / products / transactions)\n",
    "tableau_final_date = tableau_final.copy()\n"
   ]
  },
  {
   "cell_type": "code",
   "execution_count": 77,
   "id": "2fcd9408",
   "metadata": {},
   "outputs": [
    {
     "data": {
      "text/html": [
       "<div>\n",
       "<style scoped>\n",
       "    .dataframe tbody tr th:only-of-type {\n",
       "        vertical-align: middle;\n",
       "    }\n",
       "\n",
       "    .dataframe tbody tr th {\n",
       "        vertical-align: top;\n",
       "    }\n",
       "\n",
       "    .dataframe thead th {\n",
       "        text-align: right;\n",
       "    }\n",
       "</style>\n",
       "<table border=\"1\" class=\"dataframe\">\n",
       "  <thead>\n",
       "    <tr style=\"text-align: right;\">\n",
       "      <th></th>\n",
       "      <th>id_prod</th>\n",
       "      <th>date</th>\n",
       "      <th>session_id</th>\n",
       "      <th>client_id</th>\n",
       "      <th>keys</th>\n",
       "      <th>price</th>\n",
       "      <th>categ</th>\n",
       "      <th>sex</th>\n",
       "      <th>birth</th>\n",
       "      <th>age</th>\n",
       "      <th>tranche_age</th>\n",
       "      <th>date2</th>\n",
       "      <th>annee</th>\n",
       "      <th>mois</th>\n",
       "      <th>mois_annee</th>\n",
       "    </tr>\n",
       "  </thead>\n",
       "  <tbody>\n",
       "    <tr>\n",
       "      <th>0</th>\n",
       "      <td>0_1259</td>\n",
       "      <td>2021-03-01 00:01:07.843138</td>\n",
       "      <td>s_1</td>\n",
       "      <td>c_329</td>\n",
       "      <td>0</td>\n",
       "      <td>11.99</td>\n",
       "      <td>0</td>\n",
       "      <td>f</td>\n",
       "      <td>1967</td>\n",
       "      <td>57</td>\n",
       "      <td>Adultes(51_65A)</td>\n",
       "      <td>2021-03-01</td>\n",
       "      <td>2021</td>\n",
       "      <td>3</td>\n",
       "      <td>03-2021</td>\n",
       "    </tr>\n",
       "    <tr>\n",
       "      <th>1</th>\n",
       "      <td>0_1390</td>\n",
       "      <td>2021-03-01 00:02:26.047414</td>\n",
       "      <td>s_2</td>\n",
       "      <td>c_664</td>\n",
       "      <td>1</td>\n",
       "      <td>19.37</td>\n",
       "      <td>0</td>\n",
       "      <td>m</td>\n",
       "      <td>1960</td>\n",
       "      <td>64</td>\n",
       "      <td>Adultes(51_65A)</td>\n",
       "      <td>2021-03-01</td>\n",
       "      <td>2021</td>\n",
       "      <td>3</td>\n",
       "      <td>03-2021</td>\n",
       "    </tr>\n",
       "    <tr>\n",
       "      <th>2</th>\n",
       "      <td>0_1352</td>\n",
       "      <td>2021-03-01 00:02:38.311413</td>\n",
       "      <td>s_3</td>\n",
       "      <td>c_580</td>\n",
       "      <td>2</td>\n",
       "      <td>4.50</td>\n",
       "      <td>0</td>\n",
       "      <td>m</td>\n",
       "      <td>1988</td>\n",
       "      <td>36</td>\n",
       "      <td>Adultes_jeunes(36_50A)</td>\n",
       "      <td>2021-03-01</td>\n",
       "      <td>2021</td>\n",
       "      <td>3</td>\n",
       "      <td>03-2021</td>\n",
       "    </tr>\n",
       "    <tr>\n",
       "      <th>3</th>\n",
       "      <td>0_1458</td>\n",
       "      <td>2021-03-01 00:04:54.559692</td>\n",
       "      <td>s_4</td>\n",
       "      <td>c_7912</td>\n",
       "      <td>3</td>\n",
       "      <td>6.55</td>\n",
       "      <td>0</td>\n",
       "      <td>f</td>\n",
       "      <td>1989</td>\n",
       "      <td>35</td>\n",
       "      <td>jeunes(-35A)</td>\n",
       "      <td>2021-03-01</td>\n",
       "      <td>2021</td>\n",
       "      <td>3</td>\n",
       "      <td>03-2021</td>\n",
       "    </tr>\n",
       "    <tr>\n",
       "      <th>4</th>\n",
       "      <td>0_1358</td>\n",
       "      <td>2021-03-01 00:05:18.801198</td>\n",
       "      <td>s_5</td>\n",
       "      <td>c_2033</td>\n",
       "      <td>4</td>\n",
       "      <td>16.49</td>\n",
       "      <td>0</td>\n",
       "      <td>f</td>\n",
       "      <td>1956</td>\n",
       "      <td>68</td>\n",
       "      <td>Seniors1(66_80A)</td>\n",
       "      <td>2021-03-01</td>\n",
       "      <td>2021</td>\n",
       "      <td>3</td>\n",
       "      <td>03-2021</td>\n",
       "    </tr>\n",
       "  </tbody>\n",
       "</table>\n",
       "</div>"
      ],
      "text/plain": [
       "  id_prod                       date session_id client_id  keys  price  categ  \\\n",
       "0  0_1259 2021-03-01 00:01:07.843138        s_1     c_329     0  11.99      0   \n",
       "1  0_1390 2021-03-01 00:02:26.047414        s_2     c_664     1  19.37      0   \n",
       "2  0_1352 2021-03-01 00:02:38.311413        s_3     c_580     2   4.50      0   \n",
       "3  0_1458 2021-03-01 00:04:54.559692        s_4    c_7912     3   6.55      0   \n",
       "4  0_1358 2021-03-01 00:05:18.801198        s_5    c_2033     4  16.49      0   \n",
       "\n",
       "  sex  birth  age             tranche_age       date2  annee  mois mois_annee  \n",
       "0   f   1967   57         Adultes(51_65A)  2021-03-01   2021     3    03-2021  \n",
       "1   m   1960   64         Adultes(51_65A)  2021-03-01   2021     3    03-2021  \n",
       "2   m   1988   36  Adultes_jeunes(36_50A)  2021-03-01   2021     3    03-2021  \n",
       "3   f   1989   35            jeunes(-35A)  2021-03-01   2021     3    03-2021  \n",
       "4   f   1956   68        Seniors1(66_80A)  2021-03-01   2021     3    03-2021  "
      ]
     },
     "execution_count": 77,
     "metadata": {},
     "output_type": "execute_result"
    }
   ],
   "source": [
    "tableau_final_date.head()\n"
   ]
  },
  {
   "cell_type": "code",
   "execution_count": 78,
   "id": "b8b01d58",
   "metadata": {},
   "outputs": [
    {
     "name": "stdout",
     "output_type": "stream",
     "text": [
      "<class 'pandas.core.frame.DataFrame'>\n",
      "RangeIndex: 687534 entries, 0 to 687533\n",
      "Data columns (total 15 columns):\n",
      " #   Column       Non-Null Count   Dtype         \n",
      "---  ------       --------------   -----         \n",
      " 0   id_prod      687534 non-null  object        \n",
      " 1   date         687534 non-null  datetime64[ns]\n",
      " 2   session_id   687534 non-null  object        \n",
      " 3   client_id    687534 non-null  object        \n",
      " 4   keys         687534 non-null  int64         \n",
      " 5   price        687534 non-null  float64       \n",
      " 6   categ        687534 non-null  int64         \n",
      " 7   sex          687534 non-null  object        \n",
      " 8   birth        687534 non-null  int64         \n",
      " 9   age          687534 non-null  int64         \n",
      " 10  tranche_age  687534 non-null  category      \n",
      " 11  date2        687534 non-null  object        \n",
      " 12  annee        687534 non-null  int32         \n",
      " 13  mois         687534 non-null  int32         \n",
      " 14  mois_annee   687534 non-null  object        \n",
      "dtypes: category(1), datetime64[ns](1), float64(1), int32(2), int64(4), object(6)\n",
      "memory usage: 68.8+ MB\n"
     ]
    }
   ],
   "source": [
    "tableau_final_date.info()"
   ]
  },
  {
   "cell_type": "code",
   "execution_count": 79,
   "id": "9cfa9cf4",
   "metadata": {
    "scrolled": true
   },
   "outputs": [
    {
     "data": {
      "text/html": [
       "<div>\n",
       "<style scoped>\n",
       "    .dataframe tbody tr th:only-of-type {\n",
       "        vertical-align: middle;\n",
       "    }\n",
       "\n",
       "    .dataframe tbody tr th {\n",
       "        vertical-align: top;\n",
       "    }\n",
       "\n",
       "    .dataframe thead th {\n",
       "        text-align: right;\n",
       "    }\n",
       "</style>\n",
       "<table border=\"1\" class=\"dataframe\">\n",
       "  <thead>\n",
       "    <tr style=\"text-align: right;\">\n",
       "      <th></th>\n",
       "      <th>chiffre_affaires</th>\n",
       "    </tr>\n",
       "    <tr>\n",
       "      <th>annee</th>\n",
       "      <th></th>\n",
       "    </tr>\n",
       "  </thead>\n",
       "  <tbody>\n",
       "    <tr>\n",
       "      <th>2021</th>\n",
       "      <td>4944760.98</td>\n",
       "    </tr>\n",
       "    <tr>\n",
       "      <th>2022</th>\n",
       "      <td>6108681.81</td>\n",
       "    </tr>\n",
       "    <tr>\n",
       "      <th>2023</th>\n",
       "      <td>974220.31</td>\n",
       "    </tr>\n",
       "  </tbody>\n",
       "</table>\n",
       "</div>"
      ],
      "text/plain": [
       "       chiffre_affaires\n",
       "annee                  \n",
       "2021         4944760.98\n",
       "2022         6108681.81\n",
       "2023          974220.31"
      ]
     },
     "execution_count": 79,
     "metadata": {},
     "output_type": "execute_result"
    }
   ],
   "source": [
    "#calcul du chiffre d'affaire par année\n",
    "ca_annee=tableau_final_date[['price','annee']].groupby(['annee']).sum()\n",
    "ca_annee = ca_annee.rename(columns={'price' :'chiffre_affaires'})\n",
    "ca_annee.head()"
   ]
  },
  {
   "cell_type": "code",
   "execution_count": 80,
   "id": "1a71c32e",
   "metadata": {},
   "outputs": [
    {
     "name": "stdout",
     "output_type": "stream",
     "text": [
      "le chiffre d'affaires qui s'étend de mars 2021 à février 2023 est de 12027663 millions d'euros.\n"
     ]
    }
   ],
   "source": [
    "#chiffre d'affaires global\n",
    "print(\"le chiffre d'affaires qui s'étend de mars 2021 à février 2023 est de\",round(ca_annee['chiffre_affaires'].sum()),\"millions d'euros.\")"
   ]
  },
  {
   "cell_type": "code",
   "execution_count": 81,
   "id": "11c1f0f0",
   "metadata": {},
   "outputs": [
    {
     "data": {
      "text/html": [
       "<div>\n",
       "<style scoped>\n",
       "    .dataframe tbody tr th:only-of-type {\n",
       "        vertical-align: middle;\n",
       "    }\n",
       "\n",
       "    .dataframe tbody tr th {\n",
       "        vertical-align: top;\n",
       "    }\n",
       "\n",
       "    .dataframe thead th {\n",
       "        text-align: right;\n",
       "    }\n",
       "</style>\n",
       "<table border=\"1\" class=\"dataframe\">\n",
       "  <thead>\n",
       "    <tr style=\"text-align: right;\">\n",
       "      <th></th>\n",
       "      <th>nombre de transactions</th>\n",
       "    </tr>\n",
       "    <tr>\n",
       "      <th>annee</th>\n",
       "      <th></th>\n",
       "    </tr>\n",
       "  </thead>\n",
       "  <tbody>\n",
       "    <tr>\n",
       "      <th>2021</th>\n",
       "      <td>286671</td>\n",
       "    </tr>\n",
       "    <tr>\n",
       "      <th>2022</th>\n",
       "      <td>346380</td>\n",
       "    </tr>\n",
       "    <tr>\n",
       "      <th>2023</th>\n",
       "      <td>54483</td>\n",
       "    </tr>\n",
       "  </tbody>\n",
       "</table>\n",
       "</div>"
      ],
      "text/plain": [
       "       nombre de transactions\n",
       "annee                        \n",
       "2021                   286671\n",
       "2022                   346380\n",
       "2023                    54483"
      ]
     },
     "execution_count": 81,
     "metadata": {},
     "output_type": "execute_result"
    }
   ],
   "source": [
    "#calcul du volume de vente par année\n",
    "volume_vente_annee=tableau_final_date[['session_id','annee']].groupby(['annee']).count()\n",
    "volume_vente_annee = volume_vente_annee.rename(columns={'session_id' :'nombre de transactions'})\n",
    "volume_vente_annee.head()"
   ]
  },
  {
   "cell_type": "code",
   "execution_count": 82,
   "id": "3782ab73",
   "metadata": {},
   "outputs": [
    {
     "data": {
      "text/html": [
       "<div>\n",
       "<style scoped>\n",
       "    .dataframe tbody tr th:only-of-type {\n",
       "        vertical-align: middle;\n",
       "    }\n",
       "\n",
       "    .dataframe tbody tr th {\n",
       "        vertical-align: top;\n",
       "    }\n",
       "\n",
       "    .dataframe thead th {\n",
       "        text-align: right;\n",
       "    }\n",
       "</style>\n",
       "<table border=\"1\" class=\"dataframe\">\n",
       "  <thead>\n",
       "    <tr style=\"text-align: right;\">\n",
       "      <th></th>\n",
       "      <th>annee</th>\n",
       "      <th>mois</th>\n",
       "      <th>chiffre affaires mensuel</th>\n",
       "      <th>mean</th>\n",
       "      <th>median</th>\n",
       "      <th>min</th>\n",
       "      <th>max</th>\n",
       "      <th>moyen_mobile</th>\n",
       "      <th>mois_annee</th>\n",
       "    </tr>\n",
       "  </thead>\n",
       "  <tbody>\n",
       "    <tr>\n",
       "      <th>0</th>\n",
       "      <td>2021</td>\n",
       "      <td>3</td>\n",
       "      <td>482440.61</td>\n",
       "      <td>16.867963</td>\n",
       "      <td>13.71</td>\n",
       "      <td>0.62</td>\n",
       "      <td>300.00</td>\n",
       "      <td>479274.955000</td>\n",
       "      <td>3_2021</td>\n",
       "    </tr>\n",
       "    <tr>\n",
       "      <th>1</th>\n",
       "      <td>2021</td>\n",
       "      <td>4</td>\n",
       "      <td>476109.30</td>\n",
       "      <td>16.739068</td>\n",
       "      <td>12.99</td>\n",
       "      <td>0.62</td>\n",
       "      <td>247.22</td>\n",
       "      <td>483831.126667</td>\n",
       "      <td>4_2021</td>\n",
       "    </tr>\n",
       "    <tr>\n",
       "      <th>2</th>\n",
       "      <td>2021</td>\n",
       "      <td>5</td>\n",
       "      <td>492943.47</td>\n",
       "      <td>17.427734</td>\n",
       "      <td>13.23</td>\n",
       "      <td>0.62</td>\n",
       "      <td>300.00</td>\n",
       "      <td>484380.443333</td>\n",
       "      <td>5_2021</td>\n",
       "    </tr>\n",
       "    <tr>\n",
       "      <th>3</th>\n",
       "      <td>2021</td>\n",
       "      <td>6</td>\n",
       "      <td>484088.56</td>\n",
       "      <td>18.029369</td>\n",
       "      <td>13.99</td>\n",
       "      <td>0.62</td>\n",
       "      <td>300.00</td>\n",
       "      <td>486622.476667</td>\n",
       "      <td>6_2021</td>\n",
       "    </tr>\n",
       "    <tr>\n",
       "      <th>4</th>\n",
       "      <td>2021</td>\n",
       "      <td>7</td>\n",
       "      <td>482835.40</td>\n",
       "      <td>19.517964</td>\n",
       "      <td>14.99</td>\n",
       "      <td>0.66</td>\n",
       "      <td>247.22</td>\n",
       "      <td>483069.583333</td>\n",
       "      <td>7_2021</td>\n",
       "    </tr>\n",
       "  </tbody>\n",
       "</table>\n",
       "</div>"
      ],
      "text/plain": [
       "  annee mois  chiffre affaires mensuel       mean  median   min     max  \\\n",
       "0  2021    3                 482440.61  16.867963   13.71  0.62  300.00   \n",
       "1  2021    4                 476109.30  16.739068   12.99  0.62  247.22   \n",
       "2  2021    5                 492943.47  17.427734   13.23  0.62  300.00   \n",
       "3  2021    6                 484088.56  18.029369   13.99  0.62  300.00   \n",
       "4  2021    7                 482835.40  19.517964   14.99  0.66  247.22   \n",
       "\n",
       "    moyen_mobile mois_annee  \n",
       "0  479274.955000     3_2021  \n",
       "1  483831.126667     4_2021  \n",
       "2  484380.443333     5_2021  \n",
       "3  486622.476667     6_2021  \n",
       "4  483069.583333     7_2021  "
      ]
     },
     "execution_count": 82,
     "metadata": {},
     "output_type": "execute_result"
    }
   ],
   "source": [
    "#calcule du chiffre d'affaire mensuel et de la moyenne mobile (ainsi que du prix moyen et le prix median)\n",
    "monthly_sales = tableau_final_date.groupby(['annee','mois'])['price'].agg(['sum','mean', 'median', 'min', 'max']).reset_index()\n",
    "monthly_sales['moyen_mobile']= monthly_sales['sum'].rolling(window=3, min_periods=2, center=True).mean()\n",
    "monthly_sales[['annee','mois']]= monthly_sales[['annee','mois']].astype('str', False)\n",
    "monthly_sales['mois_annee'] = monthly_sales['mois'] + '_' + monthly_sales['annee']\n",
    "monthly_sales = monthly_sales.rename(columns={'sum' :'chiffre affaires mensuel'})\n",
    "monthly_sales.head()"
   ]
  },
  {
   "cell_type": "code",
   "execution_count": 83,
   "id": "95691eaa",
   "metadata": {},
   "outputs": [
    {
     "data": {
      "text/plain": [
       "<function matplotlib.pyplot.show(close=None, block=None)>"
      ]
     },
     "execution_count": 83,
     "metadata": {},
     "output_type": "execute_result"
    },
    {
     "data": {
      "image/png": "[encoded data removed]",
      "text/plain": [
       "<Figure size 3000x1200 with 1 Axes>"
      ]
     },
     "metadata": {},
     "output_type": "display_data"
    }
   ],
   "source": [
    "#représentation graphique des ventes mensuelles et de la moyenne mobile\n",
    "plt.figure(figsize=(30,12))\n",
    "plt.bar(height=monthly_sales['chiffre affaires mensuel'], x=monthly_sales['mois_annee'])\n",
    "plt.xlabel('Mois', fontsize=18)\n",
    "plt.ylabel(\"chiffre d'affaires en €\",fontsize=18)\n",
    "plt.title(\"représentation graphique des ventes mensuelles et de la moyenne mobile\",fontsize=30,color='blue')\n",
    "plt.plot(monthly_sales['mois_annee'], monthly_sales[\"moyen_mobile\"], color=\"red\", linewidth=2)\n",
    "plt.show"
   ]
  },
  {
   "cell_type": "code",
   "execution_count": 84,
   "id": "6c620fe8",
   "metadata": {
    "scrolled": false
   },
   "outputs": [
    {
     "data": {
      "text/html": [
       "<div>\n",
       "<style scoped>\n",
       "    .dataframe tbody tr th:only-of-type {\n",
       "        vertical-align: middle;\n",
       "    }\n",
       "\n",
       "    .dataframe tbody tr th {\n",
       "        vertical-align: top;\n",
       "    }\n",
       "\n",
       "    .dataframe thead th {\n",
       "        text-align: right;\n",
       "    }\n",
       "</style>\n",
       "<table border=\"1\" class=\"dataframe\">\n",
       "  <thead>\n",
       "    <tr style=\"text-align: right;\">\n",
       "      <th></th>\n",
       "      <th>annee</th>\n",
       "      <th>mois</th>\n",
       "      <th>categ</th>\n",
       "      <th>chiffre affaires mensuel</th>\n",
       "      <th>mois_annee</th>\n",
       "    </tr>\n",
       "  </thead>\n",
       "  <tbody>\n",
       "    <tr>\n",
       "      <th>0</th>\n",
       "      <td>2021</td>\n",
       "      <td>3</td>\n",
       "      <td>0</td>\n",
       "      <td>193629.17</td>\n",
       "      <td>3_2021</td>\n",
       "    </tr>\n",
       "    <tr>\n",
       "      <th>1</th>\n",
       "      <td>2021</td>\n",
       "      <td>3</td>\n",
       "      <td>1</td>\n",
       "      <td>186974.17</td>\n",
       "      <td>3_2021</td>\n",
       "    </tr>\n",
       "    <tr>\n",
       "      <th>2</th>\n",
       "      <td>2021</td>\n",
       "      <td>3</td>\n",
       "      <td>2</td>\n",
       "      <td>101837.27</td>\n",
       "      <td>3_2021</td>\n",
       "    </tr>\n",
       "    <tr>\n",
       "      <th>3</th>\n",
       "      <td>2021</td>\n",
       "      <td>4</td>\n",
       "      <td>0</td>\n",
       "      <td>205222.46</td>\n",
       "      <td>4_2021</td>\n",
       "    </tr>\n",
       "    <tr>\n",
       "      <th>4</th>\n",
       "      <td>2021</td>\n",
       "      <td>4</td>\n",
       "      <td>1</td>\n",
       "      <td>156138.35</td>\n",
       "      <td>4_2021</td>\n",
       "    </tr>\n",
       "  </tbody>\n",
       "</table>\n",
       "</div>"
      ],
      "text/plain": [
       "  annee mois  categ  chiffre affaires mensuel mois_annee\n",
       "0  2021    3      0                 193629.17     3_2021\n",
       "1  2021    3      1                 186974.17     3_2021\n",
       "2  2021    3      2                 101837.27     3_2021\n",
       "3  2021    4      0                 205222.46     4_2021\n",
       "4  2021    4      1                 156138.35     4_2021"
      ]
     },
     "execution_count": 84,
     "metadata": {},
     "output_type": "execute_result"
    }
   ],
   "source": [
    "#calcul du chiffre d'affaire par mois et par catégorie\n",
    "monthly_sales1 = tableau_final_date.groupby(['annee','mois','categ']).agg({'price':'sum'}).reset_index()\n",
    "monthly_sales1[['annee','mois']]=monthly_sales1[['annee','mois']].astype('str', False)\n",
    "monthly_sales1['mois_annee'] = monthly_sales1['mois'] + '_' + monthly_sales1['annee']\n",
    "monthly_sales1 = monthly_sales1.rename(columns={'price' :'chiffre affaires mensuel'})\n",
    "monthly_sales1.head()"
   ]
  },
  {
   "cell_type": "code",
   "execution_count": 85,
   "id": "c7fe4bc0",
   "metadata": {
    "scrolled": true
   },
   "outputs": [
    {
     "data": {
      "image/png": "[encoded data removed]",
      "text/plain": [
       "<Figure size 2900x900 with 1 Axes>"
      ]
     },
     "metadata": {},
     "output_type": "display_data"
    }
   ],
   "source": [
    "#Représentation graphique du chiffre d'affaire par mois & catégorie en stacked bar plot\n",
    "\n",
    "#hiérarchisation des données avec une colonne par catégorie avec pivot_table\n",
    "ms=tableau_final_date.pivot_table(index=['mois','annee','mois_annee'], columns='categ', values='price', aggfunc='sum').reset_index()\n",
    "ms = ms.sort_values(['annee', 'mois'])\n",
    "\n",
    "# creation des données pour le graphe\n",
    "x = ms['mois_annee']\n",
    "y1 = ms[0]\n",
    "y2 = ms[1]\n",
    "y3 = ms[2]\n",
    " \n",
    "# création du stacked bar plot\n",
    "plt.figure(figsize=(29,9))\n",
    "plt.bar(x, y1, color='blue')\n",
    "plt.bar(x, y2, bottom=y1, color='red')\n",
    "plt.bar(x, y3, bottom=y1+y2, color='green')\n",
    "plt.xlabel(\"Mois\",fontsize=18)\n",
    "plt.ylabel(\"Montant en euro\",fontsize=18)\n",
    "plt.legend([\"catégorie 0\", \"catégorie 1\", \"catégorie 2\"],fontsize=18)\n",
    "plt.title(\"Représentation graphique du chiffre d'affaire par mois & catégorie\",fontsize=30,color='blue')\n",
    "plt.show()"
   ]
  },
  {
   "cell_type": "markdown",
   "id": "fff95bab",
   "metadata": {},
   "source": [
    "## Chiffres référencement produit"
   ]
  },
  {
   "cell_type": "code",
   "execution_count": 86,
   "id": "8d23621a",
   "metadata": {},
   "outputs": [],
   "source": [
    "#top vente produit en quantité et chiffre d'affaire\n",
    "top_qte = tableau_final_date[['price','id_prod']].groupby(['id_prod']).count().nlargest(5,'price').reset_index().sort_values(by='price')\n",
    "top_ca = tableau_final_date[['price','id_prod']].groupby(['id_prod']).sum().nlargest(5,'price').reset_index().sort_values(by='price')"
   ]
  },
  {
   "cell_type": "code",
   "execution_count": 87,
   "id": "a5358c55",
   "metadata": {},
   "outputs": [],
   "source": [
    "#flop vente produit en quantité et chiffre d'affaire\n",
    "flop_qte=tableau_final_date[['price','id_prod']].groupby(['id_prod']).count().nsmallest(5,'price').reset_index().sort_values(by='price', ascending=False)\n",
    "flop_ca=tableau_final_date[['price','id_prod']].groupby(['id_prod']).sum().nsmallest(5,'price').reset_index().sort_values(by='price', ascending=False)"
   ]
  },
  {
   "cell_type": "code",
   "execution_count": 88,
   "id": "7a51ea9a",
   "metadata": {},
   "outputs": [
    {
     "data": {
      "image/png": "[encoded data removed]",
      "text/plain": [
       "<Figure size 400x300 with 1 Axes>"
      ]
     },
     "metadata": {},
     "output_type": "display_data"
    },
    {
     "data": {
      "image/png": "[encoded data removed]",
      "text/plain": [
       "<Figure size 400x300 with 1 Axes>"
      ]
     },
     "metadata": {},
     "output_type": "display_data"
    },
    {
     "data": {
      "image/png": "[encoded data removed]",
      "text/plain": [
       "<Figure size 400x300 with 1 Axes>"
      ]
     },
     "metadata": {},
     "output_type": "display_data"
    },
    {
     "data": {
      "image/png": "[encoded data removed]",
      "text/plain": [
       "<Figure size 400x300 with 1 Axes>"
      ]
     },
     "metadata": {},
     "output_type": "display_data"
    }
   ],
   "source": [
    "#Représentation graphique des tops et flops\n",
    "plt.figure(figsize=(4,3))\n",
    "plt.barh('id_prod', 'price', data=top_qte, color='purple', height=0.80)\n",
    "plt.title('Top vente en quantite',fontsize=15)\n",
    "plt.xlabel('Quantité de vente')\n",
    "plt.ylabel('Identifiant produit')\n",
    "\n",
    "plt.figure(figsize=(4,3))\n",
    "plt.barh('id_prod', 'price', data=top_ca, color='red', height=0.80)\n",
    "plt.title(\"Top vente en chiffre d'affaires\",fontsize=15)\n",
    "plt.xlabel(\"Chiffre d'affaires\")\n",
    "plt.ylabel('Identifiant produit')\n",
    "\n",
    "plt.figure(figsize=(4,3))\n",
    "plt.barh('id_prod', 'price', data=flop_qte, color='purple', height=0.80)\n",
    "plt.title('flop vente en quantite',fontsize=15,color='blue')\n",
    "plt.xlabel('Quantité de vente')\n",
    "plt.ylabel('Identifiant produit')\n",
    "\n",
    "plt.figure(figsize=(4,3))\n",
    "plt.barh('id_prod', 'price', data=flop_ca,color='red', height=0.80)\n",
    "plt.title(\"flop vente en chiffre d'affaires\",fontsize=15,color='blue')\n",
    "plt.xlabel(\"Chiffre d'affaires\")\n",
    "plt.ylabel('Identifiant produit')\n",
    "plt.show()"
   ]
  },
  {
   "cell_type": "code",
   "execution_count": 89,
   "id": "4448ca49",
   "metadata": {},
   "outputs": [
    {
     "data": {
      "text/plain": [
       "categ\n",
       "0    2292\n",
       "1     737\n",
       "2     236\n",
       "Name: id_prod, dtype: int64"
      ]
     },
     "execution_count": 89,
     "metadata": {},
     "output_type": "execute_result"
    }
   ],
   "source": [
    "#nombre de produit par catégorie\n",
    "tableau_final_date[['categ','id_prod']].groupby('categ')['id_prod'].nunique()"
   ]
  },
  {
   "cell_type": "code",
   "execution_count": 90,
   "id": "1cdbd9d8",
   "metadata": {},
   "outputs": [
    {
     "data": {
      "text/html": [
       "<div>\n",
       "<style scoped>\n",
       "    .dataframe tbody tr th:only-of-type {\n",
       "        vertical-align: middle;\n",
       "    }\n",
       "\n",
       "    .dataframe tbody tr th {\n",
       "        vertical-align: top;\n",
       "    }\n",
       "\n",
       "    .dataframe thead th {\n",
       "        text-align: right;\n",
       "    }\n",
       "</style>\n",
       "<table border=\"1\" class=\"dataframe\">\n",
       "  <thead>\n",
       "    <tr style=\"text-align: right;\">\n",
       "      <th></th>\n",
       "      <th>categ</th>\n",
       "      <th>chiffre_affaires</th>\n",
       "    </tr>\n",
       "  </thead>\n",
       "  <tbody>\n",
       "    <tr>\n",
       "      <th>0</th>\n",
       "      <td>0</td>\n",
       "      <td>4419730.97</td>\n",
       "    </tr>\n",
       "    <tr>\n",
       "      <th>1</th>\n",
       "      <td>1</td>\n",
       "      <td>4827657.11</td>\n",
       "    </tr>\n",
       "    <tr>\n",
       "      <th>2</th>\n",
       "      <td>2</td>\n",
       "      <td>2780275.02</td>\n",
       "    </tr>\n",
       "  </tbody>\n",
       "</table>\n",
       "</div>"
      ],
      "text/plain": [
       "   categ  chiffre_affaires\n",
       "0      0        4419730.97\n",
       "1      1        4827657.11\n",
       "2      2        2780275.02"
      ]
     },
     "execution_count": 90,
     "metadata": {},
     "output_type": "execute_result"
    }
   ],
   "source": [
    "#Répartition du chiffre d'affaires par catégories\n",
    "ca_categorie = tableau_final_date[['price','categ']].groupby(['categ']).sum().reset_index()\n",
    "ca_categorie = ca_categorie.rename(columns={'price' :'chiffre_affaires'})\n",
    "ca_categorie.head()"
   ]
  },
  {
   "cell_type": "code",
   "execution_count": 91,
   "id": "c8a46fd4",
   "metadata": {},
   "outputs": [
    {
     "data": {
      "image/png": "[encoded data removed]",
      "text/plain": [
       "<Figure size 640x480 with 1 Axes>"
      ]
     },
     "metadata": {},
     "output_type": "display_data"
    }
   ],
   "source": [
    "#Représentation graphique de la répartition du chiffre d'affaires par catégorie\n",
    "plt.pie(x=ca_categorie['chiffre_affaires'], labels=ca_categorie['categ'], autopct='%.1f%%', wedgeprops={'edgecolor': '1.0'})\n",
    "plt.title(\"Répartition du chiffre d'affaires par catégories\",fontsize=12,color='blue')\n",
    "plt.show()"
   ]
  },
  {
   "cell_type": "code",
   "execution_count": 92,
   "id": "c289de8c",
   "metadata": {},
   "outputs": [
    {
     "data": {
      "text/html": [
       "<div>\n",
       "<style scoped>\n",
       "    .dataframe tbody tr th:only-of-type {\n",
       "        vertical-align: middle;\n",
       "    }\n",
       "\n",
       "    .dataframe tbody tr th {\n",
       "        vertical-align: top;\n",
       "    }\n",
       "\n",
       "    .dataframe thead th {\n",
       "        text-align: right;\n",
       "    }\n",
       "</style>\n",
       "<table border=\"1\" class=\"dataframe\">\n",
       "  <thead>\n",
       "    <tr style=\"text-align: right;\">\n",
       "      <th></th>\n",
       "      <th>categ</th>\n",
       "      <th>quantité_vendus</th>\n",
       "    </tr>\n",
       "  </thead>\n",
       "  <tbody>\n",
       "    <tr>\n",
       "      <th>0</th>\n",
       "      <td>0</td>\n",
       "      <td>415459</td>\n",
       "    </tr>\n",
       "    <tr>\n",
       "      <th>1</th>\n",
       "      <td>1</td>\n",
       "      <td>235592</td>\n",
       "    </tr>\n",
       "    <tr>\n",
       "      <th>2</th>\n",
       "      <td>2</td>\n",
       "      <td>36483</td>\n",
       "    </tr>\n",
       "  </tbody>\n",
       "</table>\n",
       "</div>"
      ],
      "text/plain": [
       "   categ  quantité_vendus\n",
       "0      0           415459\n",
       "1      1           235592\n",
       "2      2            36483"
      ]
     },
     "execution_count": 92,
     "metadata": {},
     "output_type": "execute_result"
    }
   ],
   "source": [
    "#Répartition par catégories en volume de vente\n",
    "qtevendus_categorie = tableau_final_date[['price','categ']].groupby(['categ']).count().reset_index()\n",
    "qtevendus_categorie = qtevendus_categorie.rename(columns={'price' :'quantité_vendus'})\n",
    "qtevendus_categorie.head()"
   ]
  },
  {
   "cell_type": "code",
   "execution_count": 93,
   "id": "61f9cf40",
   "metadata": {},
   "outputs": [
    {
     "data": {
      "image/png": "[encoded data removed]",
      "text/plain": [
       "<Figure size 640x480 with 1 Axes>"
      ]
     },
     "metadata": {},
     "output_type": "display_data"
    }
   ],
   "source": [
    "#Représentation graphique de la répartition par catégorie en quantité de vente\n",
    "plt.pie(x=qtevendus_categorie['quantité_vendus'], labels=qtevendus_categorie['categ'], autopct='%.1f%%', wedgeprops={'edgecolor': '1.0'})\n",
    "plt.title(\"Répartition par catégories en quantité de vente\",fontsize=12,color='blue')\n",
    "plt.show()"
   ]
  },
  {
   "cell_type": "markdown",
   "id": "32ea71dc",
   "metadata": {},
   "source": [
    "## Chiffres client"
   ]
  },
  {
   "cell_type": "code",
   "execution_count": 94,
   "id": "98228a20",
   "metadata": {},
   "outputs": [
    {
     "data": {
      "text/html": [
       "<div>\n",
       "<style scoped>\n",
       "    .dataframe tbody tr th:only-of-type {\n",
       "        vertical-align: middle;\n",
       "    }\n",
       "\n",
       "    .dataframe tbody tr th {\n",
       "        vertical-align: top;\n",
       "    }\n",
       "\n",
       "    .dataframe thead th {\n",
       "        text-align: right;\n",
       "    }\n",
       "</style>\n",
       "<table border=\"1\" class=\"dataframe\">\n",
       "  <thead>\n",
       "    <tr style=\"text-align: right;\">\n",
       "      <th></th>\n",
       "      <th>tranche_age</th>\n",
       "      <th>chiffre affaires par tranche age</th>\n",
       "    </tr>\n",
       "  </thead>\n",
       "  <tbody>\n",
       "    <tr>\n",
       "      <th>1</th>\n",
       "      <td>Adultes_jeunes(36_50A)</td>\n",
       "      <td>4483770.02</td>\n",
       "    </tr>\n",
       "    <tr>\n",
       "      <th>0</th>\n",
       "      <td>jeunes(-35A)</td>\n",
       "      <td>4023217.06</td>\n",
       "    </tr>\n",
       "    <tr>\n",
       "      <th>2</th>\n",
       "      <td>Adultes(51_65A)</td>\n",
       "      <td>2349884.60</td>\n",
       "    </tr>\n",
       "    <tr>\n",
       "      <th>3</th>\n",
       "      <td>Seniors1(66_80A)</td>\n",
       "      <td>952168.32</td>\n",
       "    </tr>\n",
       "    <tr>\n",
       "      <th>4</th>\n",
       "      <td>Seniors2(81_95A)</td>\n",
       "      <td>218623.10</td>\n",
       "    </tr>\n",
       "  </tbody>\n",
       "</table>\n",
       "</div>"
      ],
      "text/plain": [
       "              tranche_age  chiffre affaires par tranche age\n",
       "1  Adultes_jeunes(36_50A)                        4483770.02\n",
       "0            jeunes(-35A)                        4023217.06\n",
       "2         Adultes(51_65A)                        2349884.60\n",
       "3        Seniors1(66_80A)                         952168.32\n",
       "4        Seniors2(81_95A)                         218623.10"
      ]
     },
     "execution_count": 94,
     "metadata": {},
     "output_type": "execute_result"
    }
   ],
   "source": [
    "#CA par tranche d'age\n",
    "ca_tranche_age=tableau_final_date[['price','tranche_age']].groupby(['tranche_age']).sum().reset_index().sort_values(by='price',ascending=False)\n",
    "ca_tranche_age=ca_tranche_age.rename(columns={'price' :'chiffre affaires par tranche age'})\n",
    "ca_tranche_age.head()"
   ]
  },
  {
   "cell_type": "code",
   "execution_count": 95,
   "id": "10ada098",
   "metadata": {
    "scrolled": true
   },
   "outputs": [
    {
     "data": {
      "image/png": "[encoded data removed]",
      "text/plain": [
       "<Figure size 640x480 with 1 Axes>"
      ]
     },
     "metadata": {},
     "output_type": "display_data"
    }
   ],
   "source": [
    "#Représentation graphique de la répartition du chiffre d'affaires par catégorie de client\n",
    "plt.pie(x=ca_tranche_age['chiffre affaires par tranche age'], labels=ca_tranche_age['tranche_age'], autopct='%.1f%%', wedgeprops={'edgecolor': '1.0'})\n",
    "plt.title(\"Répartition du chiffre d'affaires par catégorie de client\",fontsize=12,color='blue')\n",
    "plt.show()"
   ]
  },
  {
   "cell_type": "code",
   "execution_count": 96,
   "id": "d1048291",
   "metadata": {},
   "outputs": [
    {
     "data": {
      "text/html": [
       "<div>\n",
       "<style scoped>\n",
       "    .dataframe tbody tr th:only-of-type {\n",
       "        vertical-align: middle;\n",
       "    }\n",
       "\n",
       "    .dataframe tbody tr th {\n",
       "        vertical-align: top;\n",
       "    }\n",
       "\n",
       "    .dataframe thead th {\n",
       "        text-align: right;\n",
       "    }\n",
       "</style>\n",
       "<table border=\"1\" class=\"dataframe\">\n",
       "  <thead>\n",
       "    <tr style=\"text-align: right;\">\n",
       "      <th></th>\n",
       "      <th>client_id</th>\n",
       "      <th>chiffre_affaires_client</th>\n",
       "    </tr>\n",
       "  </thead>\n",
       "  <tbody>\n",
       "    <tr>\n",
       "      <th>8595</th>\n",
       "      <td>c_1570</td>\n",
       "      <td>5285.82</td>\n",
       "    </tr>\n",
       "    <tr>\n",
       "      <th>8596</th>\n",
       "      <td>c_3454</td>\n",
       "      <td>114110.57</td>\n",
       "    </tr>\n",
       "    <tr>\n",
       "      <th>8597</th>\n",
       "      <td>c_6714</td>\n",
       "      <td>153918.60</td>\n",
       "    </tr>\n",
       "    <tr>\n",
       "      <th>8598</th>\n",
       "      <td>c_4958</td>\n",
       "      <td>290227.03</td>\n",
       "    </tr>\n",
       "    <tr>\n",
       "      <th>8599</th>\n",
       "      <td>c_1609</td>\n",
       "      <td>326039.89</td>\n",
       "    </tr>\n",
       "  </tbody>\n",
       "</table>\n",
       "</div>"
      ],
      "text/plain": [
       "     client_id  chiffre_affaires_client\n",
       "8595    c_1570                  5285.82\n",
       "8596    c_3454                114110.57\n",
       "8597    c_6714                153918.60\n",
       "8598    c_4958                290227.03\n",
       "8599    c_1609                326039.89"
      ]
     },
     "execution_count": 96,
     "metadata": {},
     "output_type": "execute_result"
    }
   ],
   "source": [
    "#Part du chiffre d'affaires par client\n",
    "ca_client = tableau_final_date[['price','client_id']].groupby(['client_id']).sum().sort_values(by='price',ascending=True).reset_index()\n",
    "ca_client = ca_client.rename(columns={'price' :'chiffre_affaires_client'})\n",
    "ca_client.tail()"
   ]
  },
  {
   "cell_type": "code",
   "execution_count": 97,
   "id": "06fd417a",
   "metadata": {},
   "outputs": [],
   "source": [
    "#Création d'une variable pour les gros clients (listé ci-dessus)\n",
    "big_costumers = tableau_final_date.loc[tableau_final_date['client_id'].isin(['c_3454','c_6714','c_4958','c_1609'])]"
   ]
  },
  {
   "cell_type": "code",
   "execution_count": 98,
   "id": "a108a475",
   "metadata": {},
   "outputs": [
    {
     "data": {
      "text/html": [
       "<div>\n",
       "<style scoped>\n",
       "    .dataframe tbody tr th:only-of-type {\n",
       "        vertical-align: middle;\n",
       "    }\n",
       "\n",
       "    .dataframe tbody tr th {\n",
       "        vertical-align: top;\n",
       "    }\n",
       "\n",
       "    .dataframe thead th {\n",
       "        text-align: right;\n",
       "    }\n",
       "</style>\n",
       "<table border=\"1\" class=\"dataframe\">\n",
       "  <thead>\n",
       "    <tr style=\"text-align: right;\">\n",
       "      <th></th>\n",
       "      <th>id_prod</th>\n",
       "      <th>date</th>\n",
       "      <th>session_id</th>\n",
       "      <th>client_id</th>\n",
       "      <th>keys</th>\n",
       "      <th>price</th>\n",
       "      <th>categ</th>\n",
       "      <th>sex</th>\n",
       "      <th>birth</th>\n",
       "      <th>age</th>\n",
       "      <th>tranche_age</th>\n",
       "      <th>date2</th>\n",
       "      <th>annee</th>\n",
       "      <th>mois</th>\n",
       "      <th>mois_annee</th>\n",
       "    </tr>\n",
       "  </thead>\n",
       "  <tbody>\n",
       "    <tr>\n",
       "      <th>50</th>\n",
       "      <td>0_1431</td>\n",
       "      <td>2021-03-01 01:08:49.803921</td>\n",
       "      <td>s_33</td>\n",
       "      <td>c_3454</td>\n",
       "      <td>50</td>\n",
       "      <td>10.99</td>\n",
       "      <td>0</td>\n",
       "      <td>m</td>\n",
       "      <td>1969</td>\n",
       "      <td>55</td>\n",
       "      <td>Adultes(51_65A)</td>\n",
       "      <td>2021-03-01</td>\n",
       "      <td>2021</td>\n",
       "      <td>3</td>\n",
       "      <td>03-2021</td>\n",
       "    </tr>\n",
       "    <tr>\n",
       "      <th>165</th>\n",
       "      <td>1_376</td>\n",
       "      <td>2021-03-01 03:55:08.643093</td>\n",
       "      <td>s_89</td>\n",
       "      <td>c_3454</td>\n",
       "      <td>165</td>\n",
       "      <td>17.49</td>\n",
       "      <td>1</td>\n",
       "      <td>m</td>\n",
       "      <td>1969</td>\n",
       "      <td>55</td>\n",
       "      <td>Adultes(51_65A)</td>\n",
       "      <td>2021-03-01</td>\n",
       "      <td>2021</td>\n",
       "      <td>3</td>\n",
       "      <td>03-2021</td>\n",
       "    </tr>\n",
       "    <tr>\n",
       "      <th>263</th>\n",
       "      <td>1_702</td>\n",
       "      <td>2021-03-01 06:35:33.906582</td>\n",
       "      <td>s_142</td>\n",
       "      <td>c_3454</td>\n",
       "      <td>263</td>\n",
       "      <td>15.20</td>\n",
       "      <td>1</td>\n",
       "      <td>m</td>\n",
       "      <td>1969</td>\n",
       "      <td>55</td>\n",
       "      <td>Adultes(51_65A)</td>\n",
       "      <td>2021-03-01</td>\n",
       "      <td>2021</td>\n",
       "      <td>3</td>\n",
       "      <td>03-2021</td>\n",
       "    </tr>\n",
       "    <tr>\n",
       "      <th>277</th>\n",
       "      <td>1_339</td>\n",
       "      <td>2021-03-01 06:53:05.073853</td>\n",
       "      <td>s_142</td>\n",
       "      <td>c_3454</td>\n",
       "      <td>277</td>\n",
       "      <td>22.99</td>\n",
       "      <td>1</td>\n",
       "      <td>m</td>\n",
       "      <td>1969</td>\n",
       "      <td>55</td>\n",
       "      <td>Adultes(51_65A)</td>\n",
       "      <td>2021-03-01</td>\n",
       "      <td>2021</td>\n",
       "      <td>3</td>\n",
       "      <td>03-2021</td>\n",
       "    </tr>\n",
       "    <tr>\n",
       "      <th>361</th>\n",
       "      <td>0_1451</td>\n",
       "      <td>2021-03-01 08:59:13.332251</td>\n",
       "      <td>s_188</td>\n",
       "      <td>c_3454</td>\n",
       "      <td>361</td>\n",
       "      <td>19.99</td>\n",
       "      <td>0</td>\n",
       "      <td>m</td>\n",
       "      <td>1969</td>\n",
       "      <td>55</td>\n",
       "      <td>Adultes(51_65A)</td>\n",
       "      <td>2021-03-01</td>\n",
       "      <td>2021</td>\n",
       "      <td>3</td>\n",
       "      <td>03-2021</td>\n",
       "    </tr>\n",
       "    <tr>\n",
       "      <th>...</th>\n",
       "      <td>...</td>\n",
       "      <td>...</td>\n",
       "      <td>...</td>\n",
       "      <td>...</td>\n",
       "      <td>...</td>\n",
       "      <td>...</td>\n",
       "      <td>...</td>\n",
       "      <td>...</td>\n",
       "      <td>...</td>\n",
       "      <td>...</td>\n",
       "      <td>...</td>\n",
       "      <td>...</td>\n",
       "      <td>...</td>\n",
       "      <td>...</td>\n",
       "      <td>...</td>\n",
       "    </tr>\n",
       "    <tr>\n",
       "      <th>687263</th>\n",
       "      <td>1_296</td>\n",
       "      <td>2023-02-28 17:11:15.400461</td>\n",
       "      <td>s_348305</td>\n",
       "      <td>c_3454</td>\n",
       "      <td>687263</td>\n",
       "      <td>24.67</td>\n",
       "      <td>1</td>\n",
       "      <td>m</td>\n",
       "      <td>1969</td>\n",
       "      <td>55</td>\n",
       "      <td>Adultes(51_65A)</td>\n",
       "      <td>2023-02-28</td>\n",
       "      <td>2023</td>\n",
       "      <td>2</td>\n",
       "      <td>02-2023</td>\n",
       "    </tr>\n",
       "    <tr>\n",
       "      <th>687309</th>\n",
       "      <td>0_1144</td>\n",
       "      <td>2023-02-28 18:25:38.185338</td>\n",
       "      <td>s_348338</td>\n",
       "      <td>c_3454</td>\n",
       "      <td>687309</td>\n",
       "      <td>18.87</td>\n",
       "      <td>0</td>\n",
       "      <td>m</td>\n",
       "      <td>1969</td>\n",
       "      <td>55</td>\n",
       "      <td>Adultes(51_65A)</td>\n",
       "      <td>2023-02-28</td>\n",
       "      <td>2023</td>\n",
       "      <td>2</td>\n",
       "      <td>02-2023</td>\n",
       "    </tr>\n",
       "    <tr>\n",
       "      <th>687362</th>\n",
       "      <td>0_586</td>\n",
       "      <td>2023-02-28 19:50:54.129943</td>\n",
       "      <td>s_348360</td>\n",
       "      <td>c_3454</td>\n",
       "      <td>687362</td>\n",
       "      <td>4.95</td>\n",
       "      <td>0</td>\n",
       "      <td>m</td>\n",
       "      <td>1969</td>\n",
       "      <td>55</td>\n",
       "      <td>Adultes(51_65A)</td>\n",
       "      <td>2023-02-28</td>\n",
       "      <td>2023</td>\n",
       "      <td>2</td>\n",
       "      <td>02-2023</td>\n",
       "    </tr>\n",
       "    <tr>\n",
       "      <th>687417</th>\n",
       "      <td>1_190</td>\n",
       "      <td>2023-02-28 21:11:58.971010</td>\n",
       "      <td>s_348390</td>\n",
       "      <td>c_3454</td>\n",
       "      <td>687417</td>\n",
       "      <td>14.53</td>\n",
       "      <td>1</td>\n",
       "      <td>m</td>\n",
       "      <td>1969</td>\n",
       "      <td>55</td>\n",
       "      <td>Adultes(51_65A)</td>\n",
       "      <td>2023-02-28</td>\n",
       "      <td>2023</td>\n",
       "      <td>2</td>\n",
       "      <td>02-2023</td>\n",
       "    </tr>\n",
       "    <tr>\n",
       "      <th>687502</th>\n",
       "      <td>1_279</td>\n",
       "      <td>2023-02-28 23:16:12.006088</td>\n",
       "      <td>s_348431</td>\n",
       "      <td>c_3454</td>\n",
       "      <td>687502</td>\n",
       "      <td>27.99</td>\n",
       "      <td>1</td>\n",
       "      <td>m</td>\n",
       "      <td>1969</td>\n",
       "      <td>55</td>\n",
       "      <td>Adultes(51_65A)</td>\n",
       "      <td>2023-02-28</td>\n",
       "      <td>2023</td>\n",
       "      <td>2</td>\n",
       "      <td>02-2023</td>\n",
       "    </tr>\n",
       "  </tbody>\n",
       "</table>\n",
       "<p>6793 rows × 15 columns</p>\n",
       "</div>"
      ],
      "text/plain": [
       "       id_prod                       date session_id client_id    keys  price  \\\n",
       "50      0_1431 2021-03-01 01:08:49.803921       s_33    c_3454      50  10.99   \n",
       "165      1_376 2021-03-01 03:55:08.643093       s_89    c_3454     165  17.49   \n",
       "263      1_702 2021-03-01 06:35:33.906582      s_142    c_3454     263  15.20   \n",
       "277      1_339 2021-03-01 06:53:05.073853      s_142    c_3454     277  22.99   \n",
       "361     0_1451 2021-03-01 08:59:13.332251      s_188    c_3454     361  19.99   \n",
       "...        ...                        ...        ...       ...     ...    ...   \n",
       "687263   1_296 2023-02-28 17:11:15.400461   s_348305    c_3454  687263  24.67   \n",
       "687309  0_1144 2023-02-28 18:25:38.185338   s_348338    c_3454  687309  18.87   \n",
       "687362   0_586 2023-02-28 19:50:54.129943   s_348360    c_3454  687362   4.95   \n",
       "687417   1_190 2023-02-28 21:11:58.971010   s_348390    c_3454  687417  14.53   \n",
       "687502   1_279 2023-02-28 23:16:12.006088   s_348431    c_3454  687502  27.99   \n",
       "\n",
       "        categ sex  birth  age      tranche_age       date2  annee  mois  \\\n",
       "50          0   m   1969   55  Adultes(51_65A)  2021-03-01   2021     3   \n",
       "165         1   m   1969   55  Adultes(51_65A)  2021-03-01   2021     3   \n",
       "263         1   m   1969   55  Adultes(51_65A)  2021-03-01   2021     3   \n",
       "277         1   m   1969   55  Adultes(51_65A)  2021-03-01   2021     3   \n",
       "361         0   m   1969   55  Adultes(51_65A)  2021-03-01   2021     3   \n",
       "...       ...  ..    ...  ...              ...         ...    ...   ...   \n",
       "687263      1   m   1969   55  Adultes(51_65A)  2023-02-28   2023     2   \n",
       "687309      0   m   1969   55  Adultes(51_65A)  2023-02-28   2023     2   \n",
       "687362      0   m   1969   55  Adultes(51_65A)  2023-02-28   2023     2   \n",
       "687417      1   m   1969   55  Adultes(51_65A)  2023-02-28   2023     2   \n",
       "687502      1   m   1969   55  Adultes(51_65A)  2023-02-28   2023     2   \n",
       "\n",
       "       mois_annee  \n",
       "50        03-2021  \n",
       "165       03-2021  \n",
       "263       03-2021  \n",
       "277       03-2021  \n",
       "361       03-2021  \n",
       "...           ...  \n",
       "687263    02-2023  \n",
       "687309    02-2023  \n",
       "687362    02-2023  \n",
       "687417    02-2023  \n",
       "687502    02-2023  \n",
       "\n",
       "[6793 rows x 15 columns]"
      ]
     },
     "execution_count": 98,
     "metadata": {},
     "output_type": "execute_result"
    }
   ],
   "source": [
    "big_costumers.loc[big_costumers['client_id']=='c_3454']"
   ]
  },
  {
   "cell_type": "code",
   "execution_count": 99,
   "id": "a6a777c0",
   "metadata": {},
   "outputs": [
    {
     "data": {
      "image/png": "[encoded data removed]",
      "text/plain": [
       "<Figure size 640x480 with 1 Axes>"
      ]
     },
     "metadata": {},
     "output_type": "display_data"
    }
   ],
   "source": [
    "#Répartition du chiffre d'affaire en fonction du nombre de clients (courbe de Lorenz)\n",
    "ca_customer = ca_client['chiffre_affaires_client']\n",
    "n = len(ca_customer)\n",
    "lorenz = np.cumsum(np.sort(ca_customer)) / ca_customer.sum()\n",
    "lorenz = np.append([0],lorenz)\n",
    "xaxis = np.linspace(0-1/n,1+1/n,n+1)\n",
    "plt.plot(xaxis,lorenz,drawstyle='steps-post')\n",
    "\n",
    "formatter_percent = ticker.FuncFormatter(lambda x, pos: f'{x*100:.0f}%')\n",
    "\n",
    "plt.gca().xaxis.set_major_formatter(formatter_percent)\n",
    "\n",
    "plt.gca().yaxis.set_major_formatter(formatter_percent)\n",
    "\n",
    "plt.title(\"Répartition du chiffre d'affaires en fonction du nombre de clients\" ,fontsize=15,color='blue')\n",
    "plt.xlabel('Client')\n",
    "plt.ylabel(\"Chiffre d'affaires\")\n",
    "plt.grid(True)"
   ]
  },
  {
   "cell_type": "markdown",
   "id": "e2263bf7",
   "metadata": {},
   "source": [
    "On peut observer sur notre courbe de Lorenz que 50% des clients réalisent 20% du chiffre d'affaires."
   ]
  },
  {
   "cell_type": "code",
   "execution_count": 100,
   "id": "95f36670",
   "metadata": {},
   "outputs": [
    {
     "name": "stdout",
     "output_type": "stream",
     "text": [
      "sex\n",
      "f    342693\n",
      "m    344841\n",
      "Name: client_id, dtype: int64\n"
     ]
    }
   ],
   "source": [
    "# Répartition des genres parmis nos clients :\n",
    "repartition_sexe = tableau_final_date.groupby(['sex'])['client_id'].count()\n",
    "print(repartition_sexe)\n"
   ]
  },
  {
   "cell_type": "code",
   "execution_count": 101,
   "id": "05b8b1d2",
   "metadata": {},
   "outputs": [
    {
     "data": {
      "image/png": "[encoded data removed]",
      "text/plain": [
       "<Figure size 640x480 with 1 Axes>"
      ]
     },
     "metadata": {},
     "output_type": "display_data"
    }
   ],
   "source": [
    "#Représentation graphique des genres parmis nos clients :\n",
    "plt.pie(x=repartition_sexe, labels=['Femme','Homme'], autopct='%.1f%%', wedgeprops={'edgecolor': '1.0'})\n",
    "plt.title('Répartition des genres au sein de notre clientèle',fontsize=12,color='blue')\n",
    "plt.show()"
   ]
  },
  {
   "cell_type": "code",
   "execution_count": 102,
   "id": "c6578bb8",
   "metadata": {},
   "outputs": [
    {
     "name": "stdout",
     "output_type": "stream",
     "text": [
      "montant total des achats par genre :\n",
      " sex\n",
      "f    5950843.68\n",
      "m    6076819.42\n",
      "Name: price, dtype: float64\n",
      "nombre total des achats par genre :\n",
      " sex\n",
      "f    342693\n",
      "m    344841\n",
      "Name: price, dtype: int64\n",
      "montant moyen des achats par genre :\n",
      " sex\n",
      "f    17.364941\n",
      "m    17.622091\n",
      "Name: price, dtype: float64\n"
     ]
    }
   ],
   "source": [
    "# Achats par genres:\n",
    "montant_achats_sexe = tableau_final_date.groupby(['sex'])['price'].sum()\n",
    "print('montant total des achats par genre :\\n', montant_achats_sexe)\n",
    "\n",
    "nbr_achats_sexe = tableau_final_date.groupby(['sex'])['price'].count()\n",
    "print('nombre total des achats par genre :\\n', nbr_achats_sexe)\n",
    "\n",
    "moy_achats_sexe = tableau_final_date.groupby(['sex'])['price'].mean()\n",
    "print('montant moyen des achats par genre :\\n', moy_achats_sexe)\n",
    "\n"
   ]
  },
  {
   "cell_type": "code",
   "execution_count": 103,
   "id": "a1605027",
   "metadata": {},
   "outputs": [
    {
     "data": {
      "image/png": "[encoded data removed]",
      "text/plain": [
       "<Figure size 640x480 with 1 Axes>"
      ]
     },
     "metadata": {},
     "output_type": "display_data"
    }
   ],
   "source": [
    "#Représentation graphique des achats par genre:\n",
    "plt.pie(x=montant_achats_sexe, labels=['Femme','Homme'], autopct='%.1f%%', wedgeprops={'edgecolor': '1.0'})\n",
    "plt.title('Représentation graphique des achats par genre',fontsize=12,color='blue')\n",
    "plt.show()"
   ]
  },
  {
   "cell_type": "markdown",
   "id": "20fdd0bf",
   "metadata": {},
   "source": [
    "# <a name=\"C5\">Corrélation</a>"
   ]
  },
  {
   "cell_type": "markdown",
   "id": "2ee170f8",
   "metadata": {},
   "source": [
    "### Corrélation entre le genre du client et la catégorie de livres "
   ]
  },
  {
   "cell_type": "code",
   "execution_count": 104,
   "id": "f6131041",
   "metadata": {},
   "outputs": [],
   "source": [
    "#création d'un dataframe sans les big_costumers\n",
    "tableau_final_date2 = tableau_final_date.loc[~tableau_final_date['client_id'].isin(['c_3454','c_6714','c_4958','c_1609'])]"
   ]
  },
  {
   "cell_type": "markdown",
   "id": "fe4e46df",
   "metadata": {},
   "source": [
    "Nous avons au préalable créés le dataframe tableau_final_date2, duquel nous avons enlevés les gros clients (big_customers). Ce dataframe sera utilisé pour réaliser nos tests, sans que les gros clients ne puissent influencer le résultats. \n",
    "\n",
    "\n",
    "Pour cette premiére corrélation entre le genre du client et la catégorie de livres, il s'agira ici de tester l'indépendance de ses deux variables qualitatives."
   ]
  },
  {
   "cell_type": "code",
   "execution_count": 105,
   "id": "183bcd2c",
   "metadata": {
    "scrolled": true
   },
   "outputs": [
    {
     "data": {
      "text/html": [
       "<div>\n",
       "<style scoped>\n",
       "    .dataframe tbody tr th:only-of-type {\n",
       "        vertical-align: middle;\n",
       "    }\n",
       "\n",
       "    .dataframe tbody tr th {\n",
       "        vertical-align: top;\n",
       "    }\n",
       "\n",
       "    .dataframe thead th {\n",
       "        text-align: right;\n",
       "    }\n",
       "</style>\n",
       "<table border=\"1\" class=\"dataframe\">\n",
       "  <thead>\n",
       "    <tr style=\"text-align: right;\">\n",
       "      <th>sex</th>\n",
       "      <th>f</th>\n",
       "      <th>m</th>\n",
       "    </tr>\n",
       "    <tr>\n",
       "      <th>categ</th>\n",
       "      <th></th>\n",
       "      <th></th>\n",
       "    </tr>\n",
       "  </thead>\n",
       "  <tbody>\n",
       "    <tr>\n",
       "      <th>0</th>\n",
       "      <td>200793</td>\n",
       "      <td>186488</td>\n",
       "    </tr>\n",
       "    <tr>\n",
       "      <th>1</th>\n",
       "      <td>115721</td>\n",
       "      <td>104884</td>\n",
       "    </tr>\n",
       "    <tr>\n",
       "      <th>2</th>\n",
       "      <td>16980</td>\n",
       "      <td>15868</td>\n",
       "    </tr>\n",
       "  </tbody>\n",
       "</table>\n",
       "</div>"
      ],
      "text/plain": [
       "sex         f       m\n",
       "categ                \n",
       "0      200793  186488\n",
       "1      115721  104884\n",
       "2       16980   15868"
      ]
     },
     "execution_count": 105,
     "metadata": {},
     "output_type": "execute_result"
    }
   ],
   "source": [
    "#Corrélation entre le genre du client et la catégorie de livre acheté \n",
    "#réalisation dans tableau de contigence en vue de représenter la corrélation entre le genre (sexe) du client et les catégories (0,1,2) de livres acheté\n",
    "tableau_contingence = pd.crosstab(index=tableau_final_date2['sex'],columns=tableau_final_date2['categ']).T\n",
    "tableau_contingence.head()"
   ]
  },
  {
   "cell_type": "markdown",
   "id": "8c312fc1",
   "metadata": {},
   "source": [
    "test Chi-2"
   ]
  },
  {
   "cell_type": "code",
   "execution_count": 106,
   "id": "6541f573",
   "metadata": {},
   "outputs": [
    {
     "data": {
      "text/plain": [
       "Chi2ContingencyResult(statistic=22.66856665178056, pvalue=1.1955928116587024e-05, dof=2, expected_freq=array([[201574.89662481, 185706.10337519],\n",
       "       [114822.13191434, 105782.86808566],\n",
       "       [ 17096.97146086,  15751.02853914]]))"
      ]
     },
     "execution_count": 106,
     "metadata": {},
     "output_type": "execute_result"
    }
   ],
   "source": [
    "#test Chi-2\n",
    "stats.chi2_contingency(tableau_contingence)"
   ]
  },
  {
   "cell_type": "markdown",
   "id": "56197293",
   "metadata": {},
   "source": [
    "L'hypothèse nulle, le genre et la catégorie sont dépendants. La valeur pvalue=1.1955928116587024e-05 en notation scientifique signifie 1.1955928116587024 multiplié par 10*<sup>-5</sup> (soit  0.000011955928116587024).\n",
    "\n",
    "En sachant que les hypothèses de test sont :\n",
    "* Les deux variables sont indépendantes (si p-values > 0.05)\n",
    "* Les deux variables sont dépendantes (si p-values < 0.05)\n",
    "\n",
    "\n",
    "La p-values étant inférieure à 0.05, les deux variables sont donc dépendantes. Il y a donc un lien entre les deux variables."
   ]
  },
  {
   "cell_type": "code",
   "execution_count": 107,
   "id": "63a1175a",
   "metadata": {},
   "outputs": [
    {
     "data": {
      "text/plain": [
       "[]"
      ]
     },
     "execution_count": 107,
     "metadata": {},
     "output_type": "execute_result"
    },
    {
     "data": {
      "image/png": "[encoded data removed]",
      "text/plain": [
       "<Figure size 640x480 with 2 Axes>"
      ]
     },
     "metadata": {},
     "output_type": "display_data"
    }
   ],
   "source": [
    "# Heat map \n",
    "cs_chi2, cs_p, cs_dof, cs_exp = stats.chi2_contingency(tableau_contingence)\n",
    "\n",
    "len_i = tableau_contingence.shape[0]\n",
    "len_j = tableau_contingence.shape[1]\n",
    "xij = np.zeros((len_i, len_j))\n",
    "for i in range(len_i):\n",
    "    for j in range(len_j):\n",
    "        xij[i,j] = (tableau_contingence.values[i,j]-cs_exp[i,j])**2 / cs_exp[i,j]\n",
    "\n",
    "sns.heatmap(xij/cs_chi2,annot=tableau_contingence,fmt='d',\n",
    "            yticklabels=['Catégorie 0', 'Catégorie 1', 'Catégorie 2'],\n",
    "            xticklabels=['Femme','Homme'])\n",
    "plt.title(\"Heat map de l'influence de chaque cellule sur notre Chi-2\")\n",
    "plt.plot()"
   ]
  },
  {
   "cell_type": "code",
   "execution_count": 108,
   "id": "38e9cc98",
   "metadata": {},
   "outputs": [
    {
     "ename": "NameError",
     "evalue": "name 'age_achat' is not defined",
     "output_type": "error",
     "traceback": [
      "\u001b[0;31m---------------------------------------------------------------------------\u001b[0m",
      "\u001b[0;31mNameError\u001b[0m                                 Traceback (most recent call last)",
      "Cell \u001b[0;32mIn[108], line 2\u001b[0m\n\u001b[1;32m      1\u001b[0m \u001b[38;5;66;03m#test de normalité de la variance\u001b[39;00m\n\u001b[0;32m----> 2\u001b[0m stat, p_value \u001b[38;5;241m=\u001b[39m shapiro(age_achat)\n\u001b[1;32m      3\u001b[0m alpha \u001b[38;5;241m=\u001b[39m \u001b[38;5;241m0.05\u001b[39m\n\u001b[1;32m      4\u001b[0m \u001b[38;5;28;01mif\u001b[39;00m p_value \u001b[38;5;241m>\u001b[39m alpha:\n",
      "\u001b[0;31mNameError\u001b[0m: name 'age_achat' is not defined"
     ]
    }
   ],
   "source": [
    "#test de normalité de la variance\n",
    "stat, p_value = shapiro(age_achat)\n",
    "alpha = 0.05\n",
    "if p_value > alpha:\n",
    "    print(\"Les données semblent provenir d'une distribution normale.\")\n",
    "else:\n",
    "    print(\"Les données ne semblent pas provenir d'une distribution normale.\")"
   ]
  },
  {
   "cell_type": "markdown",
   "id": "a90824fa",
   "metadata": {},
   "source": [
    "### Corrélation entre l'age du client et les montants d'achats"
   ]
  },
  {
   "cell_type": "markdown",
   "id": "75db3787",
   "metadata": {},
   "source": [
    "Il s'agit ici de tester l'indépendance de deux variables quantitatives (l'age du client et les montants d'achats)."
   ]
  },
  {
   "cell_type": "code",
   "execution_count": null,
   "id": "3f4ad5e5",
   "metadata": {},
   "outputs": [],
   "source": [
    "#Corrélation entre l'age du client et les montants d'achats\n",
    "age_achat = tableau_final_date2.groupby(['age']).agg({'price': 'sum'}).reset_index()\n",
    "age_achat = age_achat.rename(columns={'price' :'montant_achat'})\n",
    "age_achat.head()"
   ]
  },
  {
   "cell_type": "code",
   "execution_count": null,
   "id": "a54be2de",
   "metadata": {},
   "outputs": [],
   "source": [
    "#test de normalité de la variance\n",
    "stat, p_value = shapiro(age_achat)\n",
    "alpha = 0.05\n",
    "if p_value > alpha:\n",
    "    print(\"Les données semblent provenir d'une distribution normale.\")\n",
    "else:\n",
    "    print(\"Les données ne semblent pas provenir d'une distribution normale.\")"
   ]
  },
  {
   "cell_type": "code",
   "execution_count": null,
   "id": "e94651dc",
   "metadata": {
    "scrolled": true
   },
   "outputs": [],
   "source": [
    "#test de Pearson\n",
    "stats.pearsonr(age_achat['age'],age_achat['montant_achat'])"
   ]
  },
  {
   "cell_type": "markdown",
   "id": "d7146445",
   "metadata": {},
   "source": [
    "En sachant que les hypothèses de test sont :\n",
    "* Les deux variables sont indépendantes (si p-values > 0.05)\n",
    "* Les deux variables sont dépendantes (si p-values < 0.05)\n",
    "\n",
    "La pvalue 1.6855748470136192e-20 en notation scientifique signifie 1.6855748470136192 multiplié par 10*<sup>-20</sup> (soit 0.000000000000000000016855748470136192). \n",
    "\n",
    "Les variables âge et du montant d'achats sont corrélées, il y a donc une influence sur le comportement client.\n",
    "\n",
    "\n"
   ]
  },
  {
   "cell_type": "code",
   "execution_count": null,
   "id": "eb62cf45",
   "metadata": {},
   "outputs": [],
   "source": [
    "#representation graphique en nuage de points avec une droite de regression linéaire\n",
    "\n",
    "plt.scatter(age_achat['age'], age_achat['montant_achat'])\n",
    "plt.title(\"Corrélation entre l'age du client et les montants d'achats\",fontsize=10,color='blue')\n",
    "plt.xlabel('âge')\n",
    "plt.ylabel('montant en €')\n",
    "plt.grid(True)\n",
    "age_achat['intercept']=1\n",
    "result = sm.OLS(age_achat['montant_achat'], age_achat[['age','intercept']]).fit() # OLS = Ordinary Least Square (Moindres Carrés Ordinaire)\n",
    "a,b = result.params['age'],result.params['intercept']\n",
    "\n",
    "#plt.plot(dfgroupbyage.age,dfgroupbyage.price, \"o\")\n",
    "plt.plot(np.arange(100),[a*x+b for x in np.arange(100)])\n",
    "plt.show()"
   ]
  },
  {
   "cell_type": "markdown",
   "id": "da19a7f9",
   "metadata": {},
   "source": [
    "### Corrélation entre l'age du client et la fréquence d'achats\n"
   ]
  },
  {
   "cell_type": "markdown",
   "id": "c607eecc",
   "metadata": {},
   "source": [
    "Il s'agit ici de tester l'indépendance de deux variables quantitatives (l'age du client et la fréquence d'achats)."
   ]
  },
  {
   "cell_type": "code",
   "execution_count": null,
   "id": "eed9002f",
   "metadata": {},
   "outputs": [],
   "source": [
    "#Corrélation entre l'age du client et la fréquence d'achats \n",
    "age_frequence = tableau_final_date2.groupby(['age']).agg({'session_id': 'nunique'}).reset_index()\n",
    "age_frequence = age_frequence.rename(columns={'session_id' :'frequence_achat'})\n",
    "age_frequence.head()"
   ]
  },
  {
   "cell_type": "code",
   "execution_count": null,
   "id": "0ffdcc6f",
   "metadata": {
    "scrolled": true
   },
   "outputs": [],
   "source": [
    "#Représentation graphique de la relation entre l'âge client et la fréquence des achats :\n",
    "plt.figure(figsize=(30,12))\n",
    "plt.bar(height=age_frequence['frequence_achat'], x= age_frequence['age'])\n",
    "plt.xlabel(\"âge\", fontsize=18)\n",
    "plt.ylabel(\"frenquence d'achat\",fontsize=18)\n",
    "plt.title(\"représentation de la relation entre l'âge client et la fréquence des achats\",fontsize=30,color='blue')\n",
    "plt.grid(True)\n",
    "plt.show()"
   ]
  },
  {
   "cell_type": "code",
   "execution_count": null,
   "id": "3dfad9f8",
   "metadata": {},
   "outputs": [],
   "source": [
    "#test de normalité de la variance\n",
    "stat, p_value = shapiro(age_frequence)\n",
    "alpha = 0.05\n",
    "if p_value > alpha:\n",
    "    print(\"Les données semblent provenir d'une distribution normale.\")\n",
    "else:\n",
    "    print(\"Les données ne semblent pas provenir d'une distribution normale.\")"
   ]
  },
  {
   "cell_type": "code",
   "execution_count": null,
   "id": "2d079556",
   "metadata": {},
   "outputs": [],
   "source": [
    "#test Pearson\n",
    "stats.pearsonr(age_frequence['age'],age_frequence['frequence_achat'])"
   ]
  },
  {
   "cell_type": "markdown",
   "id": "d3f3ab72",
   "metadata": {},
   "source": [
    "En sachant que les hypothèses de test sont :\n",
    "* Les deux variables sont indépendantes (si p-values > 0.05)\n",
    "* Les deux variables sont dépendantes (si p-values < 0.05)\n",
    "\n",
    "La pvalue 7.427314616323468e-09 en notation scientifique signifie 7.427314616323468  multiplié par \n",
    "10*<sup>-9</sup> (soit 0.000000007427314616323468). \n",
    "\n",
    "Les variables âge et fréquence d'achats sont corrélées, il y a donc une influence sur le comportement client.\n"
   ]
  },
  {
   "cell_type": "markdown",
   "id": "67dcc8f2",
   "metadata": {},
   "source": [
    "### Corrélation entre l'age du client et le panier moyen"
   ]
  },
  {
   "cell_type": "markdown",
   "id": "82a443fa",
   "metadata": {},
   "source": [
    "Il s'agit ici de tester l'indépendance de deux variables quantitatives (l'age du client et le panier moyen)."
   ]
  },
  {
   "cell_type": "code",
   "execution_count": null,
   "id": "7d5e6406",
   "metadata": {},
   "outputs": [],
   "source": [
    "#Corrélation entre l'age du client et panier moyen\n",
    "age_panier = tableau_final_date2.groupby(['session_id','age']).agg({'price': 'sum'}).reset_index()\n",
    "age_panier = age_panier.groupby(['age']).agg({'price':'mean'}).reset_index()\n",
    "age_panier = age_panier.rename(columns={'price' :'panier_moyen'})\n",
    "age_panier.head()"
   ]
  },
  {
   "cell_type": "code",
   "execution_count": null,
   "id": "8e064708",
   "metadata": {},
   "outputs": [],
   "source": [
    "#Représentation graphique de la relation entre entre l'age du client et le panier moyen :\n",
    "plt.plot(age_panier['age'], age_panier['panier_moyen'])\n",
    "plt.title(\"Corrélation entre l'age du client et le panier moyen\",fontsize=10,color='blue')\n",
    "plt.xlabel('âge')\n",
    "plt.ylabel('panier moyen')\n",
    "plt.grid(True)\n",
    "plt.show()"
   ]
  },
  {
   "cell_type": "code",
   "execution_count": null,
   "id": "252a4d99",
   "metadata": {},
   "outputs": [],
   "source": [
    "#test de normalité de la variance\n",
    "stat, p_value = shapiro(age_panier)\n",
    "alpha = 0.05\n",
    "if p_value > alpha:\n",
    "    print(\"Les données semblent provenir d'une distribution normale.\")\n",
    "else:\n",
    "    print(\"Les données ne semblent pas provenir d'une distribution normale.\")"
   ]
  },
  {
   "cell_type": "code",
   "execution_count": null,
   "id": "2a5efee1",
   "metadata": {},
   "outputs": [],
   "source": [
    "#test Pearson\n",
    "stats.pearsonr(age_panier['age'],age_panier['panier_moyen'])"
   ]
  },
  {
   "cell_type": "markdown",
   "id": "8b178fdc",
   "metadata": {},
   "source": [
    "En sachant que les hypothèses de test sont :\n",
    "* Les deux variables sont indépendantes (si p-values > 0.05)\n",
    "* Les deux variables sont dépendantes (si p-values < 0.05)\n",
    "\n",
    "La pvalue 9.160303530540186e-15 en notation scientifique signifie 9.160303530540186 multiplié par \n",
    "10*<sup>-15</sup> (soit 0.000000000000009160303530540186). \n",
    "\n",
    "Les variables âge et le panier moyen sont corrélées, il y a donc une influence sur le comportement client.\n",
    "\n"
   ]
  },
  {
   "cell_type": "markdown",
   "id": "22c724de",
   "metadata": {},
   "source": [
    "### Corrélation entre l'âge et la categorie de livres"
   ]
  },
  {
   "cell_type": "markdown",
   "id": "6cfd3a28",
   "metadata": {},
   "source": [
    "Il s'agit ici de tester l'indépendance de deux variables, l'une qualitative et l'autre quantitative (l'âge de nos clients et la categorie de livres)."
   ]
  },
  {
   "cell_type": "code",
   "execution_count": null,
   "id": "bff11ba2",
   "metadata": {},
   "outputs": [],
   "source": [
    "#Corrélation entre l'age du client et la categorie de livres\n",
    "age_categ=tableau_final_date2[['age', 'categ']]\n",
    "age_categ_contingence = pd.crosstab(index=tableau_final_date2['age'],columns=tableau_final_date2['categ'])\n",
    "age_categ_contingence.head()"
   ]
  },
  {
   "cell_type": "code",
   "execution_count": null,
   "id": "1b622b3f",
   "metadata": {},
   "outputs": [],
   "source": [
    "#Représentation graphique de la répartition des ages par catégorie en boite à moustache (boxplot)\n",
    "categorie = age_categ['categ'].unique()\n",
    "ages = {categorie: age_categ.loc[age_categ['categ']==categorie, 'age'] for categorie in categorie}\n",
    "\n",
    "plt.boxplot([\n",
    "    ages[0],\n",
    "    ages[1],\n",
    "    ages[2]]\n",
    "    ,labels=['Catégorie 0', 'Catégorie 1', 'Catégorie 2'],showmeans=True, showfliers=False, \n",
    "    meanline=True, medianprops=dict(color='Blue'), meanprops=dict(color='red'))\n",
    "plt.ylabel('Age (années)')\n",
    "plt.title('Répartition des ages par catégorie')\n",
    "plt.grid(True)\n",
    "plt.show()"
   ]
  },
  {
   "cell_type": "code",
   "execution_count": null,
   "id": "e279c08a",
   "metadata": {},
   "outputs": [],
   "source": [
    "eta_squared = ((age_categ_contingence.values[0,0]*age_categ_contingence.values[1,1])-(age_categ_contingence.values[1,0]*age_categ_contingence.values[0,1]))**2 / (age_categ_contingence.values.sum()*age_categ_contingence.values.sum())\n",
    "print(eta_squared)"
   ]
  },
  {
   "cell_type": "markdown",
   "id": "b5573635",
   "metadata": {},
   "source": [
    "eta_squared est une mesure de l'effet de taille dans l'analyse de la variance (ANOVA).La valeur de eta_squared varie de 0 à 1. Plus la valeur est proche de 1, plus elle indique une proportion plus élevée de variance qui peut être expliquée par une variable donnée dans le modèle. Ainsi, le résultat de notre eta_squared nous indiques que l'age a une influence sur la catégorie de livre achetée."
   ]
  },
  {
   "cell_type": "code",
   "execution_count": null,
   "id": "c203d335",
   "metadata": {},
   "outputs": [],
   "source": [
    "#test Kruskal-Wallis\n",
    "stats.kruskal(age_categ_contingence[0],age_categ_contingence[1], age_categ_contingence[2])"
   ]
  },
  {
   "cell_type": "markdown",
   "id": "719d1e0f",
   "metadata": {},
   "source": [
    "Avec une p-value aussi basse pour le test de Kruskal-Wallis, on peut rejeter l'hypothèse nulle."
   ]
  }
 ],
 "metadata": {
  "kernelspec": {
   "display_name": "Python 3 (ipykernel)",
   "language": "python",
   "name": "python3"
  },
  "language_info": {
   "codemirror_mode": {
    "name": "ipython",
    "version": 3
   },
   "file_extension": ".py",
   "mimetype": "text/x-python",
   "name": "python",
   "nbconvert_exporter": "python",
   "pygments_lexer": "ipython3",
   "version": "3.11.5"
  }
 },
 "nbformat": 4,
 "nbformat_minor": 5
}
